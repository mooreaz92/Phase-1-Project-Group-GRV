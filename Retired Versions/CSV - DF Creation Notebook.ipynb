{
 "cells": [
  {
   "cell_type": "markdown",
   "metadata": {},
   "source": [
    "# Data Combination over Movie Data Sets (CSV Files)"
   ]
  },
  {
   "cell_type": "markdown",
   "metadata": {},
   "source": [
    "The purpose of this notebook is to document the steps taken in order to generate movies_df and studios_df, which will be used for further analysis to make recommendations to Microsoft on where they could enter the original movie production business.\n",
    "\n",
    "The scope of this excercise is the provided CSV Files:\n",
    "- bom.Movie_gross.csv.gz\n",
    "- rt.movie_info_tsv.gz\n",
    "- rt.reviews.tsv.gz\n",
    "- tmdb.movies.csv.gz\n",
    "- tn.movie_budgets.csv.gz"
   ]
  },
  {
   "cell_type": "markdown",
   "metadata": {},
   "source": [
    "<figure>\n",
    "    <img src=\"Converging Arrows.png\"\n",
    "         alt=\"Let's synthesize some data\"\n",
    "         width=\"400\"\n",
    "         height=\"200\">\n",
    "    <figcaption><center><bold>Putting it all together</figcaption>\n",
    "</figure>"
   ]
  },
  {
   "cell_type": "markdown",
   "metadata": {},
   "source": [
    "From the EDA notebook:\n",
    "\n",
    "The CSV files will contain the relevant financial data needed to make a recommendation to Microsoft. Our key metric will be profitability of movie titles, then profitability by genre, and then identifying people in the movie making labor force would be best for the job (using a mix of both movie profitability and critic reviews)"
   ]
  },
  {
   "cell_type": "markdown",
   "metadata": {},
   "source": [
    "## Master Table Import: \"tn.movie_budgets.csv.gz\""
   ]
  },
  {
   "cell_type": "markdown",
   "metadata": {},
   "source": [
    "### *Basic Import*"
   ]
  },
  {
   "cell_type": "markdown",
   "metadata": {},
   "source": [
    "For purposes of our combination, we will use 'tn.movie_budgets.csv.gz' as our beginning source of truth, as it contains the most relevant information we are looking to investigate (mainly, domestic and international box office sales and movie budget)"
   ]
  },
  {
   "cell_type": "code",
   "execution_count": 1,
   "metadata": {},
   "outputs": [],
   "source": [
    "import pandas as pd\n",
    "import matplotlib.pyplot as plt\n",
    "import seaborn as sns\n",
    "import datetime\n",
    "import string\n",
    "punct = '!\"#$%&\\'()*+,-./:;<=>?@[\\\\]^_`{}~'"
   ]
  },
  {
   "cell_type": "code",
   "execution_count": 2,
   "metadata": {
    "scrolled": true
   },
   "outputs": [],
   "source": [
    "df_budgets = pd.read_csv(\"Raw Data/tn.movie_budgets.csv.gz\")"
   ]
  },
  {
   "cell_type": "code",
   "execution_count": 3,
   "metadata": {},
   "outputs": [
    {
     "data": {
      "text/html": [
       "<div>\n",
       "<style scoped>\n",
       "    .dataframe tbody tr th:only-of-type {\n",
       "        vertical-align: middle;\n",
       "    }\n",
       "\n",
       "    .dataframe tbody tr th {\n",
       "        vertical-align: top;\n",
       "    }\n",
       "\n",
       "    .dataframe thead th {\n",
       "        text-align: right;\n",
       "    }\n",
       "</style>\n",
       "<table border=\"1\" class=\"dataframe\">\n",
       "  <thead>\n",
       "    <tr style=\"text-align: right;\">\n",
       "      <th></th>\n",
       "      <th>id</th>\n",
       "      <th>release_date</th>\n",
       "      <th>movie</th>\n",
       "      <th>production_budget</th>\n",
       "      <th>domestic_gross</th>\n",
       "      <th>worldwide_gross</th>\n",
       "    </tr>\n",
       "  </thead>\n",
       "  <tbody>\n",
       "    <tr>\n",
       "      <th>0</th>\n",
       "      <td>1</td>\n",
       "      <td>Dec 18, 2009</td>\n",
       "      <td>Avatar</td>\n",
       "      <td>$425,000,000</td>\n",
       "      <td>$760,507,625</td>\n",
       "      <td>$2,776,345,279</td>\n",
       "    </tr>\n",
       "    <tr>\n",
       "      <th>1</th>\n",
       "      <td>2</td>\n",
       "      <td>May 20, 2011</td>\n",
       "      <td>Pirates of the Caribbean: On Stranger Tides</td>\n",
       "      <td>$410,600,000</td>\n",
       "      <td>$241,063,875</td>\n",
       "      <td>$1,045,663,875</td>\n",
       "    </tr>\n",
       "  </tbody>\n",
       "</table>\n",
       "</div>"
      ],
      "text/plain": [
       "   id  release_date                                        movie  \\\n",
       "0   1  Dec 18, 2009                                       Avatar   \n",
       "1   2  May 20, 2011  Pirates of the Caribbean: On Stranger Tides   \n",
       "\n",
       "  production_budget domestic_gross worldwide_gross  \n",
       "0      $425,000,000   $760,507,625  $2,776,345,279  \n",
       "1      $410,600,000   $241,063,875  $1,045,663,875  "
      ]
     },
     "execution_count": 3,
     "metadata": {},
     "output_type": "execute_result"
    }
   ],
   "source": [
    "df_budgets.head(2)"
   ]
  },
  {
   "cell_type": "markdown",
   "metadata": {},
   "source": [
    "Converting the financial data into numbers, release_date info into datetime objects, and creating a 'year' column:"
   ]
  },
  {
   "cell_type": "code",
   "execution_count": 4,
   "metadata": {},
   "outputs": [],
   "source": [
    "df_budgets['worldwide_gross'] = df_budgets['worldwide_gross'].str.replace('$', '').str.replace(',', '')\n",
    "df_budgets['domestic_gross'] = df_budgets['domestic_gross'].str.replace('$', '').str.replace(',', '')\n",
    "df_budgets['production_budget'] = df_budgets['production_budget'].str.replace('$', '').str.replace(',', '')\n",
    "\n",
    "df_budgets['worldwide_gross'] = df_budgets['worldwide_gross'].astype(float)\n",
    "df_budgets['domestic_gross'] = df_budgets['domestic_gross'].astype(float)\n",
    "df_budgets['production_budget'] = df_budgets['production_budget'].astype(float)\n",
    "\n",
    "df_budgets['release_date'] = pd.to_datetime(df_budgets['release_date'])\n",
    "\n",
    "df_budgets['year'] = df_budgets['release_date'].dt.strftime('%Y')\n",
    "df_budgets['year'] = df_budgets['year'].map(int)"
   ]
  },
  {
   "cell_type": "markdown",
   "metadata": {},
   "source": [
    "Since we will be combining additional genre info based off of the title of the movie, we will normalize punctuation use by removing punctuation from all titles in this data source and later data sources:"
   ]
  },
  {
   "cell_type": "code",
   "execution_count": 5,
   "metadata": {},
   "outputs": [],
   "source": [
    "transtab = str.maketrans(dict.fromkeys(punct, ''))\n",
    "\n",
    "df_budgets['movie'] = '|'.join(df_budgets['movie'].tolist()).translate(transtab).split('|')"
   ]
  },
  {
   "cell_type": "markdown",
   "metadata": {},
   "source": [
    "We will create a profit calculation, which is worldwide_gross minus the production budget. We will also create a column which calculates the percentage of profit margin"
   ]
  },
  {
   "cell_type": "code",
   "execution_count": 6,
   "metadata": {},
   "outputs": [],
   "source": [
    "df_budgets['profit'] = df_budgets['worldwide_gross'] - df_budgets['production_budget']\n",
    "df_budgets['profit_margin'] = (df_budgets['profit'] / df_budgets['worldwide_gross']) * 100"
   ]
  },
  {
   "cell_type": "code",
   "execution_count": 7,
   "metadata": {
    "scrolled": true
   },
   "outputs": [
    {
     "data": {
      "text/html": [
       "<div>\n",
       "<style scoped>\n",
       "    .dataframe tbody tr th:only-of-type {\n",
       "        vertical-align: middle;\n",
       "    }\n",
       "\n",
       "    .dataframe tbody tr th {\n",
       "        vertical-align: top;\n",
       "    }\n",
       "\n",
       "    .dataframe thead th {\n",
       "        text-align: right;\n",
       "    }\n",
       "</style>\n",
       "<table border=\"1\" class=\"dataframe\">\n",
       "  <thead>\n",
       "    <tr style=\"text-align: right;\">\n",
       "      <th></th>\n",
       "      <th>id</th>\n",
       "      <th>release_date</th>\n",
       "      <th>movie</th>\n",
       "      <th>production_budget</th>\n",
       "      <th>domestic_gross</th>\n",
       "      <th>worldwide_gross</th>\n",
       "      <th>year</th>\n",
       "      <th>profit</th>\n",
       "      <th>profit_margin</th>\n",
       "    </tr>\n",
       "  </thead>\n",
       "  <tbody>\n",
       "    <tr>\n",
       "      <th>0</th>\n",
       "      <td>1</td>\n",
       "      <td>2009-12-18</td>\n",
       "      <td>Avatar</td>\n",
       "      <td>425000000.0</td>\n",
       "      <td>760507625.0</td>\n",
       "      <td>2.776345e+09</td>\n",
       "      <td>2009</td>\n",
       "      <td>2.351345e+09</td>\n",
       "      <td>84.692106</td>\n",
       "    </tr>\n",
       "    <tr>\n",
       "      <th>1</th>\n",
       "      <td>2</td>\n",
       "      <td>2011-05-20</td>\n",
       "      <td>Pirates of the Caribbean On Stranger Tides</td>\n",
       "      <td>410600000.0</td>\n",
       "      <td>241063875.0</td>\n",
       "      <td>1.045664e+09</td>\n",
       "      <td>2011</td>\n",
       "      <td>6.350639e+08</td>\n",
       "      <td>60.733080</td>\n",
       "    </tr>\n",
       "    <tr>\n",
       "      <th>2</th>\n",
       "      <td>3</td>\n",
       "      <td>2019-06-07</td>\n",
       "      <td>Dark Phoenix</td>\n",
       "      <td>350000000.0</td>\n",
       "      <td>42762350.0</td>\n",
       "      <td>1.497624e+08</td>\n",
       "      <td>2019</td>\n",
       "      <td>-2.002376e+08</td>\n",
       "      <td>-133.703598</td>\n",
       "    </tr>\n",
       "    <tr>\n",
       "      <th>3</th>\n",
       "      <td>4</td>\n",
       "      <td>2015-05-01</td>\n",
       "      <td>Avengers Age of Ultron</td>\n",
       "      <td>330600000.0</td>\n",
       "      <td>459005868.0</td>\n",
       "      <td>1.403014e+09</td>\n",
       "      <td>2015</td>\n",
       "      <td>1.072414e+09</td>\n",
       "      <td>76.436443</td>\n",
       "    </tr>\n",
       "    <tr>\n",
       "      <th>4</th>\n",
       "      <td>5</td>\n",
       "      <td>2017-12-15</td>\n",
       "      <td>Star Wars Ep VIII The Last Jedi</td>\n",
       "      <td>317000000.0</td>\n",
       "      <td>620181382.0</td>\n",
       "      <td>1.316722e+09</td>\n",
       "      <td>2017</td>\n",
       "      <td>9.997217e+08</td>\n",
       "      <td>75.925058</td>\n",
       "    </tr>\n",
       "  </tbody>\n",
       "</table>\n",
       "</div>"
      ],
      "text/plain": [
       "   id release_date                                       movie  \\\n",
       "0   1   2009-12-18                                      Avatar   \n",
       "1   2   2011-05-20  Pirates of the Caribbean On Stranger Tides   \n",
       "2   3   2019-06-07                                Dark Phoenix   \n",
       "3   4   2015-05-01                      Avengers Age of Ultron   \n",
       "4   5   2017-12-15             Star Wars Ep VIII The Last Jedi   \n",
       "\n",
       "   production_budget  domestic_gross  worldwide_gross  year        profit  \\\n",
       "0        425000000.0     760507625.0     2.776345e+09  2009  2.351345e+09   \n",
       "1        410600000.0     241063875.0     1.045664e+09  2011  6.350639e+08   \n",
       "2        350000000.0      42762350.0     1.497624e+08  2019 -2.002376e+08   \n",
       "3        330600000.0     459005868.0     1.403014e+09  2015  1.072414e+09   \n",
       "4        317000000.0     620181382.0     1.316722e+09  2017  9.997217e+08   \n",
       "\n",
       "   profit_margin  \n",
       "0      84.692106  \n",
       "1      60.733080  \n",
       "2    -133.703598  \n",
       "3      76.436443  \n",
       "4      75.925058  "
      ]
     },
     "execution_count": 7,
     "metadata": {},
     "output_type": "execute_result"
    }
   ],
   "source": [
    "df_budgets.head()"
   ]
  },
  {
   "cell_type": "markdown",
   "metadata": {},
   "source": [
    "## Master Table Import Filtering"
   ]
  },
  {
   "cell_type": "markdown",
   "metadata": {},
   "source": [
    "Filter Criteria:\n",
    "\n",
    "A studio like Microsoft will likely put at least 500k into it's projects, so we will filter for budgets above 500k. Since this is a new studio, any individual movie above 100m might be too risky. \n",
    "\n",
    "They will likely not be interested in festivals or other distributions that will not have box office values, so we will filter out movies with zero box office sales. Additionally, it is unlikely that this movie would completely flop, so lets rule out sales of less than $50k. \n",
    "\n",
    "We also are only interested in more modern data, which we will define as anything that was produced in the past 15 years"
   ]
  },
  {
   "cell_type": "code",
   "execution_count": 8,
   "metadata": {},
   "outputs": [],
   "source": [
    "df_budgets = df_budgets[(df_budgets['production_budget'] > 500000) & (df_budgets['production_budget'] < 100000000)]\n",
    "df_budgets = df_budgets[(df_budgets['worldwide_gross'] > 50000)]\n",
    "df_budgets = df_budgets[df_budgets['year'] > 2008]"
   ]
  },
  {
   "cell_type": "markdown",
   "metadata": {},
   "source": [
    "We will need to join this table with other tables, however there are duplicate values in this data set as multiple movies can share the same title. For purposes of joining, we will join on a new column, movie_and_year, created below:"
   ]
  },
  {
   "cell_type": "code",
   "execution_count": 9,
   "metadata": {},
   "outputs": [],
   "source": [
    "df_budgets['year'] = df_budgets['year'].map(str)\n",
    "df_budgets['movie_and_year'] = df_budgets['movie'] + \" - \" + df_budgets['year']\n",
    "df_budgets['year'] = df_budgets['year'].map(int)"
   ]
  },
  {
   "cell_type": "code",
   "execution_count": 10,
   "metadata": {},
   "outputs": [
    {
     "data": {
      "text/html": [
       "<div>\n",
       "<style scoped>\n",
       "    .dataframe tbody tr th:only-of-type {\n",
       "        vertical-align: middle;\n",
       "    }\n",
       "\n",
       "    .dataframe tbody tr th {\n",
       "        vertical-align: top;\n",
       "    }\n",
       "\n",
       "    .dataframe thead th {\n",
       "        text-align: right;\n",
       "    }\n",
       "</style>\n",
       "<table border=\"1\" class=\"dataframe\">\n",
       "  <thead>\n",
       "    <tr style=\"text-align: right;\">\n",
       "      <th></th>\n",
       "      <th>id</th>\n",
       "      <th>release_date</th>\n",
       "      <th>movie</th>\n",
       "      <th>production_budget</th>\n",
       "      <th>domestic_gross</th>\n",
       "      <th>worldwide_gross</th>\n",
       "      <th>year</th>\n",
       "      <th>profit</th>\n",
       "      <th>profit_margin</th>\n",
       "      <th>movie_and_year</th>\n",
       "    </tr>\n",
       "  </thead>\n",
       "  <tbody>\n",
       "  </tbody>\n",
       "</table>\n",
       "</div>"
      ],
      "text/plain": [
       "Empty DataFrame\n",
       "Columns: [id, release_date, movie, production_budget, domestic_gross, worldwide_gross, year, profit, profit_margin, movie_and_year]\n",
       "Index: []"
      ]
     },
     "execution_count": 10,
     "metadata": {},
     "output_type": "execute_result"
    }
   ],
   "source": [
    "df_budgets[df_budgets.duplicated(['movie_and_year'], keep=False)]"
   ]
  },
  {
   "cell_type": "markdown",
   "metadata": {},
   "source": [
    "The above confirms no duplicate values"
   ]
  },
  {
   "cell_type": "markdown",
   "metadata": {},
   "source": [
    "## Appending Genre using additional IMDB Data"
   ]
  },
  {
   "cell_type": "markdown",
   "metadata": {},
   "source": [
    "The SQL information which contains movie title and genres is insufficient at appending associate genres with a movie, so we will import additional data found on the IMBD website (https://datasets.imdbws.com/). These files are rather large so they will be ignored in git pushes"
   ]
  },
  {
   "cell_type": "code",
   "execution_count": 11,
   "metadata": {},
   "outputs": [
    {
     "name": "stderr",
     "output_type": "stream",
     "text": [
      "C:\\Users\\moore\\anaconda3\\envs\\learn-env\\lib\\site-packages\\IPython\\core\\interactiveshell.py:3145: DtypeWarning: Columns (4) have mixed types.Specify dtype option on import or set low_memory=False.\n",
      "  has_raised = await self.run_ast_nodes(code_ast.body, cell_name,\n"
     ]
    }
   ],
   "source": [
    "df_additional = pd.read_csv(\"Raw Data/title.basics.tsv.gz\", sep='\\t', encoding='latin1')\n",
    "df_additional['primaryTitle'] = df_additional['primaryTitle'].map(str)\n",
    "df_additional = df_additional[df_additional['titleType'] == 'movie']"
   ]
  },
  {
   "cell_type": "code",
   "execution_count": 12,
   "metadata": {},
   "outputs": [],
   "source": [
    "transtab = str.maketrans(dict.fromkeys(punct, ''))\n",
    "\n",
    "df_additional['primaryTitle'] = '|'.join(df_additional['primaryTitle'].tolist()).translate(transtab).split('|')"
   ]
  },
  {
   "cell_type": "markdown",
   "metadata": {},
   "source": [
    "Appending a movie_and_year column:"
   ]
  },
  {
   "cell_type": "code",
   "execution_count": 13,
   "metadata": {},
   "outputs": [],
   "source": [
    "df_additional['startYear'] = pd.to_datetime(df_additional['startYear'], errors='coerce')\n",
    "df_additional['year'] = df_additional['startYear'].dt.strftime('%Y')\n",
    "\n",
    "df_additional['movie_and_year'] = df_additional['primaryTitle'] + \" - \" + df_additional['year']\n",
    "\n",
    "df_additional = df_additional.fillna(0)\n",
    "df_additional['year'] = df_additional['year'].map(int)"
   ]
  },
  {
   "cell_type": "markdown",
   "metadata": {},
   "source": [
    "## Appending Genre using CSV Data"
   ]
  },
  {
   "cell_type": "code",
   "execution_count": 14,
   "metadata": {
    "scrolled": true
   },
   "outputs": [
    {
     "name": "stdout",
     "output_type": "stream",
     "text": [
      "<class 'pandas.core.frame.DataFrame'>\n",
      "Int64Index: 1722 entries, 406 to 5399\n",
      "Data columns (total 10 columns):\n",
      " #   Column             Non-Null Count  Dtype         \n",
      "---  ------             --------------  -----         \n",
      " 0   id                 1722 non-null   int64         \n",
      " 1   release_date       1722 non-null   datetime64[ns]\n",
      " 2   movie              1722 non-null   object        \n",
      " 3   production_budget  1722 non-null   float64       \n",
      " 4   domestic_gross     1722 non-null   float64       \n",
      " 5   worldwide_gross    1722 non-null   float64       \n",
      " 6   year               1722 non-null   int64         \n",
      " 7   profit             1722 non-null   float64       \n",
      " 8   profit_margin      1722 non-null   float64       \n",
      " 9   movie_and_year     1722 non-null   object        \n",
      "dtypes: datetime64[ns](1), float64(5), int64(2), object(2)\n",
      "memory usage: 148.0+ KB\n"
     ]
    }
   ],
   "source": [
    "df_budgets.info()"
   ]
  },
  {
   "cell_type": "code",
   "execution_count": 15,
   "metadata": {
    "scrolled": true
   },
   "outputs": [],
   "source": [
    "df_budget_genre = df_budgets.merge(df_additional, how='left', left_on=['movie_and_year'], right_on=['movie_and_year'])"
   ]
  },
  {
   "cell_type": "code",
   "execution_count": 16,
   "metadata": {
    "scrolled": true
   },
   "outputs": [
    {
     "data": {
      "text/plain": [
       "id                     0\n",
       "release_date           0\n",
       "movie                  0\n",
       "production_budget      0\n",
       "domestic_gross         0\n",
       "worldwide_gross        0\n",
       "year_x                 0\n",
       "profit                 0\n",
       "profit_margin          0\n",
       "movie_and_year         0\n",
       "tconst               500\n",
       "titleType            500\n",
       "primaryTitle         500\n",
       "originalTitle        500\n",
       "isAdult              500\n",
       "startYear            500\n",
       "endYear              500\n",
       "runtimeMinutes       500\n",
       "genres               500\n",
       "year_y               500\n",
       "dtype: int64"
      ]
     },
     "execution_count": 16,
     "metadata": {},
     "output_type": "execute_result"
    }
   ],
   "source": [
    "df_budget_genre.isna().sum()"
   ]
  },
  {
   "cell_type": "code",
   "execution_count": 17,
   "metadata": {},
   "outputs": [],
   "source": [
    "df_budget_genre = df_budget_genre.dropna()"
   ]
  },
  {
   "cell_type": "code",
   "execution_count": 18,
   "metadata": {
    "scrolled": true
   },
   "outputs": [],
   "source": [
    "df_budget_genre.drop_duplicates(subset=\"movie_and_year\",keep=False, inplace=True)"
   ]
  },
  {
   "cell_type": "code",
   "execution_count": 19,
   "metadata": {},
   "outputs": [
    {
     "name": "stdout",
     "output_type": "stream",
     "text": [
      "<class 'pandas.core.frame.DataFrame'>\n",
      "Int64Index: 1179 entries, 0 to 1772\n",
      "Data columns (total 20 columns):\n",
      " #   Column             Non-Null Count  Dtype         \n",
      "---  ------             --------------  -----         \n",
      " 0   id                 1179 non-null   int64         \n",
      " 1   release_date       1179 non-null   datetime64[ns]\n",
      " 2   movie              1179 non-null   object        \n",
      " 3   production_budget  1179 non-null   float64       \n",
      " 4   domestic_gross     1179 non-null   float64       \n",
      " 5   worldwide_gross    1179 non-null   float64       \n",
      " 6   year_x             1179 non-null   int64         \n",
      " 7   profit             1179 non-null   float64       \n",
      " 8   profit_margin      1179 non-null   float64       \n",
      " 9   movie_and_year     1179 non-null   object        \n",
      " 10  tconst             1179 non-null   object        \n",
      " 11  titleType          1179 non-null   object        \n",
      " 12  primaryTitle       1179 non-null   object        \n",
      " 13  originalTitle      1179 non-null   object        \n",
      " 14  isAdult            1179 non-null   object        \n",
      " 15  startYear          1179 non-null   object        \n",
      " 16  endYear            1179 non-null   object        \n",
      " 17  runtimeMinutes     1179 non-null   object        \n",
      " 18  genres             1179 non-null   object        \n",
      " 19  year_y             1179 non-null   float64       \n",
      "dtypes: datetime64[ns](1), float64(6), int64(2), object(11)\n",
      "memory usage: 193.4+ KB\n"
     ]
    }
   ],
   "source": [
    "df_budget_genre.info()"
   ]
  },
  {
   "cell_type": "code",
   "execution_count": 20,
   "metadata": {},
   "outputs": [],
   "source": [
    "from pathlib import Path  \n",
    "filepath = Path('financial_data.csv')  \n",
    "filepath.parent.mkdir(parents=True, exist_ok=True)  \n",
    "df_budget_genre.to_csv(filepath)  "
   ]
  }
 ],
 "metadata": {
  "kernelspec": {
   "display_name": "Python (learn-env)",
   "language": "python",
   "name": "learn-env"
  },
  "language_info": {
   "codemirror_mode": {
    "name": "ipython",
    "version": 3
   },
   "file_extension": ".py",
   "mimetype": "text/x-python",
   "name": "python",
   "nbconvert_exporter": "python",
   "pygments_lexer": "ipython3",
   "version": "3.8.5"
  }
 },
 "nbformat": 4,
 "nbformat_minor": 4
}
