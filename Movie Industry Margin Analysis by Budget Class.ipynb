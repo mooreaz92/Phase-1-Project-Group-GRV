{
 "cells": [
  {
   "cell_type": "markdown",
   "metadata": {},
   "source": [
    "<h1 style=\"font-weight: big\">Movie Industry Margin Analysis by Budget Class</h1>"
   ]
  },
  {
   "cell_type": "markdown",
   "metadata": {},
   "source": [
    "<figure>\n",
    "    <img src=\"Movie Financing.png\"\n",
    "         alt=\"Movie Financing\"\n",
    "         width=\"400\"\n",
    "         height=\"200\">\n",
    "</figure>"
   ]
  },
  {
   "cell_type": "markdown",
   "metadata": {},
   "source": [
    "<h1 style=\"font-weight: normal\">Overview</h1>"
   ]
  },
  {
   "cell_type": "markdown",
   "metadata": {},
   "source": [
    "For Microsoft's new movie studio, this project analyzes historical domestic and international box office trends against their stated movie budgets to find the 'sweet spot' budget range where movie budget dollars achieve the highest return.\n",
    "\n",
    "Within that sweet spot, the analysis also identifies which movie genre pairings (action, animation, mystery, etc) are most likely to achieve those high returns.\n",
    "\n",
    "Microsoft can use this information to determine how much initial investment is ideal when funding individual movies as well as which genres would be most beneficial for each budget class."
   ]
  },
  {
   "cell_type": "markdown",
   "metadata": {},
   "source": [
    "<h1 style=\"font-weight: normal\">Business Problem</h1>"
   ]
  },
  {
   "cell_type": "markdown",
   "metadata": {},
   "source": [
    "<figure>\n",
    "    <img src=\"Movie Set.jpg\"\n",
    "         alt=\"Movie Set\"\n",
    "         width=\"400\"\n",
    "         height=\"200\">\n",
    "</figure>"
   ]
  },
  {
   "cell_type": "markdown",
   "metadata": {},
   "source": [
    "Microsoft is looking to make a move into the original video content space and is establishing a new studio. Being new to the movie space, Microsoft is looking to understand which films are performing the best at the box office.\n",
    "\n",
    "Analysis of historical financial trends at the box office will allow Microsoft to gain insight as to how much budget to allocate to the first few films it makes in order to maximize profitability and profit margin."
   ]
  },
  {
   "cell_type": "markdown",
   "metadata": {},
   "source": [
    "<h1 style=\"font-weight: normal\">Data Understanding</h1>"
   ]
  },
  {
   "cell_type": "markdown",
   "metadata": {},
   "source": [
    "The project team has gathered historical box office information from Box Office Mojo as well as movie genre, credited movie industry professionals, and ratings information from the online IMDB database.\n",
    "\n",
    "Our primary focus will be on the financial information from Box Office Mojo and then will layer in additional detail from the online IMDB database as needed."
   ]
  },
  {
   "cell_type": "code",
   "execution_count": 1,
   "metadata": {},
   "outputs": [],
   "source": [
    "import pandas as pd\n",
    "df_budgets = pd.read_csv(\"Raw Data/tn.movie_budgets.csv.gz\")"
   ]
  },
  {
   "cell_type": "markdown",
   "metadata": {},
   "source": [
    "<h2 style=\"font-weight: 100\">Box Office Data</h2>"
   ]
  },
  {
   "cell_type": "markdown",
   "metadata": {},
   "source": [
    "The box office data from Box Office Mojo includes dates as far back as 1915 and as recent as Dec 2020. All numbers reported are in USD and 'worldwide_gross' and is inclusive of 'domestic_gross' (fn 1)"
   ]
  },
  {
   "cell_type": "code",
   "execution_count": 2,
   "metadata": {},
   "outputs": [
    {
     "data": {
      "text/html": [
       "<div>\n",
       "<style scoped>\n",
       "    .dataframe tbody tr th:only-of-type {\n",
       "        vertical-align: middle;\n",
       "    }\n",
       "\n",
       "    .dataframe tbody tr th {\n",
       "        vertical-align: top;\n",
       "    }\n",
       "\n",
       "    .dataframe thead th {\n",
       "        text-align: right;\n",
       "    }\n",
       "</style>\n",
       "<table border=\"1\" class=\"dataframe\">\n",
       "  <thead>\n",
       "    <tr style=\"text-align: right;\">\n",
       "      <th></th>\n",
       "      <th>id</th>\n",
       "      <th>release_date</th>\n",
       "      <th>movie</th>\n",
       "      <th>production_budget</th>\n",
       "      <th>domestic_gross</th>\n",
       "      <th>worldwide_gross</th>\n",
       "    </tr>\n",
       "  </thead>\n",
       "  <tbody>\n",
       "    <tr>\n",
       "      <th>0</th>\n",
       "      <td>1</td>\n",
       "      <td>Dec 18, 2009</td>\n",
       "      <td>Avatar</td>\n",
       "      <td>$425,000,000</td>\n",
       "      <td>$760,507,625</td>\n",
       "      <td>$2,776,345,279</td>\n",
       "    </tr>\n",
       "    <tr>\n",
       "      <th>1</th>\n",
       "      <td>2</td>\n",
       "      <td>May 20, 2011</td>\n",
       "      <td>Pirates of the Caribbean: On Stranger Tides</td>\n",
       "      <td>$410,600,000</td>\n",
       "      <td>$241,063,875</td>\n",
       "      <td>$1,045,663,875</td>\n",
       "    </tr>\n",
       "  </tbody>\n",
       "</table>\n",
       "</div>"
      ],
      "text/plain": [
       "   id  release_date                                        movie  \\\n",
       "0   1  Dec 18, 2009                                       Avatar   \n",
       "1   2  May 20, 2011  Pirates of the Caribbean: On Stranger Tides   \n",
       "\n",
       "  production_budget domestic_gross worldwide_gross  \n",
       "0      $425,000,000   $760,507,625  $2,776,345,279  \n",
       "1      $410,600,000   $241,063,875  $1,045,663,875  "
      ]
     },
     "execution_count": 2,
     "metadata": {},
     "output_type": "execute_result"
    }
   ],
   "source": [
    "df_budgets.head(2)"
   ]
  },
  {
   "cell_type": "markdown",
   "metadata": {},
   "source": [
    "<h1 style=\"font-weight: normal\">Data Preparation</h1>"
   ]
  },
  {
   "cell_type": "code",
   "execution_count": 3,
   "metadata": {},
   "outputs": [],
   "source": [
    "import datetime\n",
    "import string\n",
    "punct = '!\"#$%&\\'()*+,-./:;<=>?@[\\\\]^_`{}~'"
   ]
  },
  {
   "cell_type": "markdown",
   "metadata": {},
   "source": [
    "<h2 style=\"font-weight: 100\">IMDB SQL Data</h2>"
   ]
  },
  {
   "cell_type": "markdown",
   "metadata": {},
   "source": [
    "PLACEHOLDER FOR VINNIE"
   ]
  },
  {
   "cell_type": "markdown",
   "metadata": {},
   "source": [
    "<h2 style=\"font-weight: 100\">Data Cleaning</h2>"
   ]
  },
  {
   "cell_type": "markdown",
   "metadata": {},
   "source": [
    "In order to make the box office data both easier to work with and easier to merge with other data sets, we will perform the following data cleaning exercises:\n",
    "\n",
    "- Budget and box office data will have the dollar signs and commas removed \n",
    "- Budget and box office data will be formatted as a number\n",
    "- Release date will be formatted as a date time object\n",
    "- Movie titles will be stripped of punctuation to make for a friendlier merges later"
   ]
  },
  {
   "cell_type": "code",
   "execution_count": 4,
   "metadata": {},
   "outputs": [],
   "source": [
    "### Removing dollar signs and commas, and reformatting as a number\n",
    "df_budgets['worldwide_gross'] = df_budgets['worldwide_gross'].str.replace('$', '').str.replace(',', '').astype(float)\n",
    "df_budgets['domestic_gross'] = df_budgets['domestic_gross'].str.replace('$', '').str.replace(',', '').astype(float)\n",
    "df_budgets['production_budget'] = df_budgets['production_budget'].str.replace('$', '').str.replace(',', '').astype(float)\n",
    "\n",
    "### Reformatting release_date as a datetime object\n",
    "df_budgets['release_date'] = pd.to_datetime(df_budgets['release_date'])\n",
    "\n",
    "### Removing punctuation from movie titles\n",
    "transtab = str.maketrans(dict.fromkeys(punct, ''))\n",
    "df_budgets['movie'] = '|'.join(df_budgets['movie'].tolist()).translate(transtab).split('|')"
   ]
  },
  {
   "cell_type": "markdown",
   "metadata": {},
   "source": [
    "<h2 style=\"font-weight: 100\">Feature Engineering</h2>"
   ]
  },
  {
   "cell_type": "markdown",
   "metadata": {},
   "source": [
    "Additionally, we added certain columns to create fields that can be merged on later, as well as financial metric columns for further analysis. In short:\n",
    "\n",
    "- We created a 'year' column from the 'release_date' datetime object\n",
    "- We created a 'movie_and_year' column, which combines 'movie' and 'year'\n",
    "- We created a 'profit' column, which is calculated as 'worldwide_gross' - 'production budget'\n",
    "- We created a 'profit_margin' column, which is calculated as ('profit' / 'worldwide_gross')"
   ]
  },
  {
   "cell_type": "code",
   "execution_count": 5,
   "metadata": {},
   "outputs": [],
   "source": [
    "### Creation of 'year' and 'movie_and_year' columns\n",
    "df_budgets['year'] = df_budgets['release_date'].dt.strftime('%Y')\n",
    "df_budgets['movie_and_year'] = df_budgets['movie'] + \" - \" + df_budgets['year']\n",
    "\n",
    "### Creation of 'profit' and 'profit_margin' columns\n",
    "df_budgets['profit'] = df_budgets['worldwide_gross'] - df_budgets['production_budget']\n",
    "df_budgets['profit_margin'] = (df_budgets['profit'] / df_budgets['worldwide_gross']) * 100\n",
    "\n",
    "### Converting 'year' back into a numeric value\n",
    "df_budgets['year'] = df_budgets['year'].map(int)"
   ]
  },
  {
   "cell_type": "markdown",
   "metadata": {},
   "source": [
    "<h2 style=\"font-weight: 100\">Data Filtering</h2>"
   ]
  },
  {
   "cell_type": "markdown",
   "metadata": {},
   "source": [
    "While considering the business needs of Microsoft, the project team analyzed the data set and found certain subsections of data which would not be relevant for purposes of margin analysis. These subsets of data include:\n",
    "\n",
    "- Filter 1: Movies that had a very small or non-existant box office release *(less than 50k worldwide_gross)*\n",
    "- Filter 2: Movies that were released in the distant past *(released before year 2000)*\n",
    "- Filter 3: Movies with budgets that would likely not be considered business-practical by Microsoft *(budget of less than 500k or more than 100m)*\n",
    "- Filter 4: Movies with margins that were statistically anomalous *(margin of +/- 400%)*\n",
    "\n",
    "See below for further analysis of these exclusions and additional rationale"
   ]
  },
  {
   "cell_type": "code",
   "execution_count": 6,
   "metadata": {},
   "outputs": [],
   "source": [
    "### Filter 1\n",
    "df_budgets = df_budgets[(df_budgets['worldwide_gross'] > 50000)]\n",
    "\n",
    "### Filter 2\n",
    "df_budgets = df_budgets[df_budgets['year'] > 2000]\n",
    "\n",
    "### Filter 3\n",
    "df_budgets = df_budgets[(df_budgets['production_budget'] > 500000) & \n",
    "                        (df_budgets['production_budget'] < 100000000)]\n",
    "\n",
    "### Filter 4\n",
    "df_budgets = df_budgets[(df_budgets['profit_margin'] > 400) | (df_budgets['profit_margin'] < -400)]"
   ]
  }
 ],
 "metadata": {
  "kernelspec": {
   "display_name": "Python (learn-env)",
   "language": "python",
   "name": "learn-env"
  },
  "language_info": {
   "codemirror_mode": {
    "name": "ipython",
    "version": 3
   },
   "file_extension": ".py",
   "mimetype": "text/x-python",
   "name": "python",
   "nbconvert_exporter": "python",
   "pygments_lexer": "ipython3",
   "version": "3.8.5"
  }
 },
 "nbformat": 4,
 "nbformat_minor": 4
}
