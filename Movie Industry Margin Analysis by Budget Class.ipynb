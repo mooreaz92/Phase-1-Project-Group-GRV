{
 "cells": [
  {
   "cell_type": "markdown",
   "metadata": {},
   "source": [
    "<h1 style=\"font-weight: big\">Movie Industry Margin Analysis by Budget Class</h1>"
   ]
  },
  {
   "cell_type": "markdown",
   "metadata": {},
   "source": [
    "<figure>\n",
    "    <img src=\"Illustrations/Movie Financing.png\"\n",
    "         alt=\"Movie Financing\"\n",
    "         width=\"400\"\n",
    "         height=\"200\">\n",
    "</figure>"
   ]
  },
  {
   "cell_type": "markdown",
   "metadata": {},
   "source": [
    "<h1 style=\"font-weight: normal\">Overview</h1>"
   ]
  },
  {
   "cell_type": "markdown",
   "metadata": {},
   "source": [
    "For Microsoft's new movie studio, this project analyzes the trends, tendencies, and genre representation of the most profitable, established, and active studios currently in the industry.\n",
    "\n",
    "Microsoft can use this information to inform its decision on what movie to produce, what characteristics it should have, and some genres to pursue."
   ]
  },
  {
   "cell_type": "markdown",
   "metadata": {},
   "source": [
    "<h1 style=\"font-weight: normal\">Business Problem</h1>"
   ]
  },
  {
   "cell_type": "markdown",
   "metadata": {},
   "source": [
    "<figure>\n",
    "    <img src=\"Illustrations/Movie Set.jpg\"\n",
    "         alt=\"Movie Set\"\n",
    "         width=\"400\"\n",
    "         height=\"200\">\n",
    "</figure>"
   ]
  },
  {
   "cell_type": "markdown",
   "metadata": {},
   "source": [
    "Microsoft is looking to make a move into the original video content space and is establishing a new studio. Being new to the movie space, Microsoft is looking to understand characteristics and behaviors of profitable films and studios.\n",
    "\n",
    "Analysis of historical financial trends at the box office will allow Microsoft to gain insight as to how to produce their first movie."
   ]
  },
  {
   "cell_type": "markdown",
   "metadata": {},
   "source": [
    "<h1 style=\"font-weight: normal\">Data Understanding</h1>"
   ]
  },
  {
   "cell_type": "markdown",
   "metadata": {},
   "source": [
    "<figure>\n",
    "    <img src=\"Illustrations/Tickets.png\"\n",
    "         alt=\"Ticket\"\n",
    "         width=\"300\"\n",
    "         height=\"150\">\n",
    "</figure>"
   ]
  },
  {
   "cell_type": "markdown",
   "metadata": {},
   "source": [
    "The project team has gathered historical box office information from Box Office Mojo as well as movie genre and run time from the online IMDB database.\n",
    "\n",
    "Our primary focus will be on identifying the most profitable studios currently active in the market, and then analyze their recent film outputs for trend and characteristic identification."
   ]
  },
  {
   "cell_type": "code",
   "execution_count": 1,
   "metadata": {},
   "outputs": [],
   "source": [
    "import pandas as pd\n",
    "df_budgets = pd.read_csv(\"Raw Data/tn.movie_budgets.csv.gz\")"
   ]
  },
  {
   "cell_type": "markdown",
   "metadata": {},
   "source": [
    "<h2 style=\"font-weight: 100\">Box Office Data</h2>"
   ]
  },
  {
   "cell_type": "markdown",
   "metadata": {},
   "source": [
    "The box office data from Box Office Mojo includes dates as far back as 1915 and as recent as Dec 2020. All numbers reported are in USD and 'worldwide_gross' and is inclusive of 'domestic_gross'"
   ]
  },
  {
   "cell_type": "code",
   "execution_count": 2,
   "metadata": {},
   "outputs": [
    {
     "data": {
      "text/html": [
       "<div>\n",
       "<style scoped>\n",
       "    .dataframe tbody tr th:only-of-type {\n",
       "        vertical-align: middle;\n",
       "    }\n",
       "\n",
       "    .dataframe tbody tr th {\n",
       "        vertical-align: top;\n",
       "    }\n",
       "\n",
       "    .dataframe thead th {\n",
       "        text-align: right;\n",
       "    }\n",
       "</style>\n",
       "<table border=\"1\" class=\"dataframe\">\n",
       "  <thead>\n",
       "    <tr style=\"text-align: right;\">\n",
       "      <th></th>\n",
       "      <th>id</th>\n",
       "      <th>release_date</th>\n",
       "      <th>movie</th>\n",
       "      <th>production_budget</th>\n",
       "      <th>domestic_gross</th>\n",
       "      <th>worldwide_gross</th>\n",
       "    </tr>\n",
       "  </thead>\n",
       "  <tbody>\n",
       "    <tr>\n",
       "      <th>0</th>\n",
       "      <td>1</td>\n",
       "      <td>Dec 18, 2009</td>\n",
       "      <td>Avatar</td>\n",
       "      <td>$425,000,000</td>\n",
       "      <td>$760,507,625</td>\n",
       "      <td>$2,776,345,279</td>\n",
       "    </tr>\n",
       "    <tr>\n",
       "      <th>1</th>\n",
       "      <td>2</td>\n",
       "      <td>May 20, 2011</td>\n",
       "      <td>Pirates of the Caribbean: On Stranger Tides</td>\n",
       "      <td>$410,600,000</td>\n",
       "      <td>$241,063,875</td>\n",
       "      <td>$1,045,663,875</td>\n",
       "    </tr>\n",
       "  </tbody>\n",
       "</table>\n",
       "</div>"
      ],
      "text/plain": [
       "   id  release_date                                        movie  \\\n",
       "0   1  Dec 18, 2009                                       Avatar   \n",
       "1   2  May 20, 2011  Pirates of the Caribbean: On Stranger Tides   \n",
       "\n",
       "  production_budget domestic_gross worldwide_gross  \n",
       "0      $425,000,000   $760,507,625  $2,776,345,279  \n",
       "1      $410,600,000   $241,063,875  $1,045,663,875  "
      ]
     },
     "execution_count": 2,
     "metadata": {},
     "output_type": "execute_result"
    }
   ],
   "source": [
    "df_budgets.head(2)"
   ]
  },
  {
   "cell_type": "markdown",
   "metadata": {},
   "source": [
    "<h2 style=\"font-weight: 100\">IMBD Movie information</h2>"
   ]
  },
  {
   "cell_type": "markdown",
   "metadata": {},
   "source": [
    "The IMBD data we will be pulling will be from the movie_basics table, a table with thousands of records that have information such as runtime, genre, and IMDB movie ID:"
   ]
  },
  {
   "cell_type": "code",
   "execution_count": 3,
   "metadata": {},
   "outputs": [],
   "source": [
    "### Importing relevant packages for SQL Databse Extraction\n",
    "import sqlite3\n",
    "conn = sqlite3.connect(\"Raw Data/Unzip/im.db\")\n",
    "cur = conn.cursor()\n",
    "\n",
    "### Extracting Movie Information as a dataframe\n",
    "df_movie_basics = pd.read_sql(\"\"\"\n",
    "SELECT *\n",
    "FROM movie_basics\n",
    "\"\"\", conn)"
   ]
  },
  {
   "cell_type": "code",
   "execution_count": 4,
   "metadata": {},
   "outputs": [
    {
     "data": {
      "text/html": [
       "<div>\n",
       "<style scoped>\n",
       "    .dataframe tbody tr th:only-of-type {\n",
       "        vertical-align: middle;\n",
       "    }\n",
       "\n",
       "    .dataframe tbody tr th {\n",
       "        vertical-align: top;\n",
       "    }\n",
       "\n",
       "    .dataframe thead th {\n",
       "        text-align: right;\n",
       "    }\n",
       "</style>\n",
       "<table border=\"1\" class=\"dataframe\">\n",
       "  <thead>\n",
       "    <tr style=\"text-align: right;\">\n",
       "      <th></th>\n",
       "      <th>movie_id</th>\n",
       "      <th>primary_title</th>\n",
       "      <th>original_title</th>\n",
       "      <th>start_year</th>\n",
       "      <th>runtime_minutes</th>\n",
       "      <th>genres</th>\n",
       "    </tr>\n",
       "  </thead>\n",
       "  <tbody>\n",
       "    <tr>\n",
       "      <th>0</th>\n",
       "      <td>tt0063540</td>\n",
       "      <td>Sunghursh</td>\n",
       "      <td>Sunghursh</td>\n",
       "      <td>2013</td>\n",
       "      <td>175.0</td>\n",
       "      <td>Action,Crime,Drama</td>\n",
       "    </tr>\n",
       "    <tr>\n",
       "      <th>1</th>\n",
       "      <td>tt0066787</td>\n",
       "      <td>One Day Before the Rainy Season</td>\n",
       "      <td>Ashad Ka Ek Din</td>\n",
       "      <td>2019</td>\n",
       "      <td>114.0</td>\n",
       "      <td>Biography,Drama</td>\n",
       "    </tr>\n",
       "  </tbody>\n",
       "</table>\n",
       "</div>"
      ],
      "text/plain": [
       "    movie_id                    primary_title   original_title  start_year  \\\n",
       "0  tt0063540                        Sunghursh        Sunghursh        2013   \n",
       "1  tt0066787  One Day Before the Rainy Season  Ashad Ka Ek Din        2019   \n",
       "\n",
       "   runtime_minutes              genres  \n",
       "0            175.0  Action,Crime,Drama  \n",
       "1            114.0     Biography,Drama  "
      ]
     },
     "execution_count": 4,
     "metadata": {},
     "output_type": "execute_result"
    }
   ],
   "source": [
    "df_movie_basics.head(2)"
   ]
  },
  {
   "cell_type": "markdown",
   "metadata": {},
   "source": [
    "<h1 style=\"font-weight: normal\">Data Preparation</h1>"
   ]
  },
  {
   "cell_type": "code",
   "execution_count": 5,
   "metadata": {},
   "outputs": [],
   "source": [
    "import datetime\n",
    "import string\n",
    "punct = '!\"#$%&\\'()*+,-./:;<=>?@[\\\\]^_`{}~'"
   ]
  },
  {
   "cell_type": "markdown",
   "metadata": {},
   "source": [
    "<h2 style=\"font-weight: 100\">Data Cleaning</h2>"
   ]
  },
  {
   "cell_type": "markdown",
   "metadata": {},
   "source": [
    "In order to make the box office data both easier to work with and easier to merge with other data sets, we will perform the following data cleaning exercises:\n",
    "\n",
    "- Budget and box office data will have the dollar signs and commas removed \n",
    "- Budget and box office data will be formatted as a number\n",
    "- Release date will be formatted as a date time object\n",
    "- Movie titles will be stripped of punctuation to make for a friendlier merges later"
   ]
  },
  {
   "cell_type": "code",
   "execution_count": 6,
   "metadata": {},
   "outputs": [],
   "source": [
    "### Removing dollar signs and commas, and reformatting as a number\n",
    "df_budgets['worldwide_gross'] = df_budgets['worldwide_gross'].str.replace('$', '').str.replace(',', '').astype(float)\n",
    "df_budgets['domestic_gross'] = df_budgets['domestic_gross'].str.replace('$', '').str.replace(',', '').astype(float)\n",
    "df_budgets['production_budget'] = df_budgets['production_budget'].str.replace('$', '').str.replace(',', '').astype(float)\n",
    "\n",
    "### Reformatting release_date as a datetime object\n",
    "df_budgets['release_date'] = pd.to_datetime(df_budgets['release_date'])\n",
    "\n",
    "### Removing punctuation from movie titles\n",
    "transtab = str.maketrans(dict.fromkeys(punct, ''))\n",
    "df_budgets['movie'] = '|'.join(df_budgets['movie'].tolist()).translate(transtab).split('|')"
   ]
  },
  {
   "cell_type": "markdown",
   "metadata": {},
   "source": [
    "<h2 style=\"font-weight: 100\">Feature Engineering</h2>"
   ]
  },
  {
   "cell_type": "markdown",
   "metadata": {},
   "source": [
    "We added certain columns to create fields that can be merged on later, as well as financial metric columns for further analysis. In short:\n",
    "\n",
    "- We created a 'year' column from the 'release_date' datetime object\n",
    "- We created a 'movie_and_year' column, which combines 'movie' and 'year'\n",
    "- We created a 'profit' column, which is calculated as 'worldwide_gross' - 'production budget'\n",
    "- We created a 'profit_margin' column, which is calculated as ('profit' / 'worldwide_gross')\n",
    "\n",
    "We also added a new column, budget_tier, which assigns categories to each of the production budgets based on their value:\n",
    "\n",
    "- 10m and below: very-low budget\n",
    "- Between 10m and 30m: low budget\n",
    "- Between 30m and 50m: middle budget\n",
    "- Between 50m and 70m: high budget\n",
    "- Between 70m and up: very-high budget"
   ]
  },
  {
   "cell_type": "code",
   "execution_count": 7,
   "metadata": {},
   "outputs": [],
   "source": [
    "### Creation of 'year', 'month' and 'movie_and_year' columns\n",
    "df_budgets['year'] = df_budgets['release_date'].dt.strftime('%Y')\n",
    "df_budgets['month'] = df_budgets['release_date'].dt.strftime('%b')\n",
    "df_budgets['movie_and_year'] = df_budgets['movie'] + \" - \" + df_budgets['year']\n",
    "\n",
    "### Creation of 'profit' and 'profit_margin' columns\n",
    "df_budgets['profit'] = df_budgets['worldwide_gross'] - df_budgets['production_budget']\n",
    "df_budgets['profit_margin'] = (df_budgets['profit'] / df_budgets['worldwide_gross']) * 100\n",
    "\n",
    "### Converting 'year' back into a numeric value\n",
    "df_budgets['year'] = df_budgets['year'].map(int)\n",
    "\n",
    "### Adding in a 'budget_tier' column to classify each production budget value\n",
    "budget_tier = []\n",
    "for row in df_budgets['production_budget']:\n",
    "    if row < 10000000 :    budget_tier.append('very-low budget')\n",
    "    elif row < 30000000:   budget_tier.append('low budget')\n",
    "    elif row < 50000000:  budget_tier.append('middle budget')\n",
    "    elif row < 70000000:  budget_tier.append('high budget')\n",
    "    else: budget_tier.append('super-high budget')\n",
    "\n",
    "df_budgets['budget_tier'] = budget_tier"
   ]
  },
  {
   "cell_type": "markdown",
   "metadata": {},
   "source": [
    "<h2 style=\"font-weight: 100\">Data Filtering</h2>"
   ]
  },
  {
   "cell_type": "markdown",
   "metadata": {},
   "source": [
    "While considering the business needs of Microsoft, the project team analyzed the data set and found certain subsections of data which would not be relevant for purposes of margin analysis. These subsets of data include:\n",
    "\n",
    "- Filter 1: Movies that had a very small or non-existant box office release *(less than 50k worldwide_gross)*\n",
    "- Filter 2: Movies that were release recently *(released after year 2013)*\n",
    "- Filter 3: Movies with budgets that would likely not be considered business-practical by Microsoft *(budget of less than 500k)*\n",
    "- Filter 4: Movies that made money (profit margin above 0%)*"
   ]
  },
  {
   "cell_type": "code",
   "execution_count": 8,
   "metadata": {},
   "outputs": [],
   "source": [
    "### Filter 1\n",
    "df_budgets = df_budgets[(df_budgets['worldwide_gross'] > 50000)]\n",
    "\n",
    "### Filter 2\n",
    "df_budgets = df_budgets[df_budgets['year'] > 2013]\n",
    "\n",
    "### Filter 3\n",
    "df_budgets = df_budgets[(df_budgets['production_budget'] > 500000)]\n",
    "\n",
    "### Filter 4\n",
    "df_budgets = df_budgets[(df_budgets['profit_margin'] > 0)]"
   ]
  },
  {
   "cell_type": "markdown",
   "metadata": {},
   "source": [
    "<h2 style=\"font-weight: 100\">Data Merging (to add studio name from additional csv)</h2>"
   ]
  },
  {
   "cell_type": "markdown",
   "metadata": {},
   "source": [
    "This data will be left merged with \"bom.movie_gross.csv.gz\" in order to append studio to the movie title"
   ]
  },
  {
   "cell_type": "code",
   "execution_count": 9,
   "metadata": {},
   "outputs": [],
   "source": [
    "### Importing the CSV\n",
    "df_studio = pd.read_csv(\"Raw Data/bom.movie_gross.csv.gz\")\n",
    "\n",
    "### Cleaning punctionation in title and making a movie_and_year column, similar to the budgets file\n",
    "df_studio['year'] = df_studio['year'].map(str)\n",
    "df_studio['movie_and_year'] = df_studio['title'] + \" - \" + df_studio['year']\n",
    "\n",
    "### Merging the files\n",
    "df_merged = df_budgets.merge(df_studio, how=\"left\", on=\"movie_and_year\")"
   ]
  },
  {
   "cell_type": "markdown",
   "metadata": {},
   "source": [
    "Analysis of lost data:"
   ]
  },
  {
   "cell_type": "code",
   "execution_count": 10,
   "metadata": {
    "scrolled": true
   },
   "outputs": [
    {
     "data": {
      "text/plain": [
       "292"
      ]
     },
     "execution_count": 10,
     "metadata": {},
     "output_type": "execute_result"
    }
   ],
   "source": [
    "df_merged['title'].isna().sum()"
   ]
  },
  {
   "cell_type": "markdown",
   "metadata": {},
   "source": [
    "292 records were unable to be merged with their affiliated studio, leaving an analysis of 391 profitable movies"
   ]
  },
  {
   "cell_type": "code",
   "execution_count": 11,
   "metadata": {
    "scrolled": false
   },
   "outputs": [],
   "source": [
    "df_films_studio_profitable = df_merged[pd.notnull(df_merged['title'])]"
   ]
  },
  {
   "cell_type": "markdown",
   "metadata": {},
   "source": [
    "<h2 style=\"font-weight: 100\">Data Merging (to add IMBD information)</h2>"
   ]
  },
  {
   "cell_type": "markdown",
   "metadata": {},
   "source": [
    "For our analysis over the profitable movies produced by the top ten studios, we will merge information found in the movie_basics table of the IMDB database for further analysis of runtime and genres."
   ]
  },
  {
   "cell_type": "code",
   "execution_count": 12,
   "metadata": {},
   "outputs": [],
   "source": [
    "### Cleaning the primary title of punctuation\n",
    "transtab = str.maketrans(dict.fromkeys(punct, ''))\n",
    "df_movie_basics['primary_title'] = '|'.join(df_movie_basics['primary_title'].tolist()).translate(transtab).split('|')\n",
    "\n",
    "### Making a 'movie_and_year' column to merge on\n",
    "df_movie_basics['start_year'] = df_movie_basics['start_year'].map(str)\n",
    "df_movie_basics['movie_and_year'] = df_movie_basics['primary_title'] + \" - \" + df_movie_basics['start_year']\n",
    "df_movie_basics['start_year'] = df_movie_basics['start_year'].map(int)\n",
    "\n",
    "### Merging movie id\n",
    "df_half_merge = df_films_studio_profitable.merge(df_movie_basics, how=\"left\", on=\"movie_and_year\")"
   ]
  },
  {
   "cell_type": "markdown",
   "metadata": {},
   "source": [
    "<h2 style=\"font-weight: 100\">Data Merging (to add director)</h2>"
   ]
  },
  {
   "cell_type": "code",
   "execution_count": 13,
   "metadata": {},
   "outputs": [],
   "source": [
    "# df_persons_IDname = df_persons.filter(['person_id', 'primary_name'], axis=1)\n",
    "# df_persons_IDname.head(10)\n",
    "# #\n",
    "# df_p_dirmovieID = df_principals.filter(['person_id', 'movie_id', 'category'], axis=1)\n",
    "# df_directors_IDs = df_p_dirmovieID.loc[df_p_dirmovieID['category'].isin(['director'])]\n",
    "# #\n",
    "# df_directors_id = df_directors_IDs.merge(df_persons_IDname, on='person_id', how='inner')\n",
    "# df_directors_id.head(7)\n",
    "# ##\n",
    "# df_master = pd.read_csv('df.csv')\n",
    "# df_master1 = df_master.merge(df_directors_id, on=['movie_id'], how='inner')\n",
    "# df_master1.info()"
   ]
  },
  {
   "cell_type": "markdown",
   "metadata": {},
   "source": [
    "<h2 style=\"font-weight: 100\">Determining studios with the highest profit</h2>"
   ]
  },
  {
   "cell_type": "code",
   "execution_count": 14,
   "metadata": {},
   "outputs": [],
   "source": [
    "import numpy as np"
   ]
  },
  {
   "cell_type": "markdown",
   "metadata": {},
   "source": [
    "For our analysis, it is important that Microsoft partners with a studio that has a proven track record of profitable movies. As such, we will look for studios with the highest median profit margin that also have put out at least five profitable movies since 2013"
   ]
  },
  {
   "cell_type": "code",
   "execution_count": 15,
   "metadata": {},
   "outputs": [
    {
     "data": {
      "text/html": [
       "<div>\n",
       "<style scoped>\n",
       "    .dataframe tbody tr th:only-of-type {\n",
       "        vertical-align: middle;\n",
       "    }\n",
       "\n",
       "    .dataframe tbody tr th {\n",
       "        vertical-align: top;\n",
       "    }\n",
       "\n",
       "    .dataframe thead th {\n",
       "        text-align: right;\n",
       "    }\n",
       "</style>\n",
       "<table border=\"1\" class=\"dataframe\">\n",
       "  <thead>\n",
       "    <tr style=\"text-align: right;\">\n",
       "      <th></th>\n",
       "      <th>profit_margin</th>\n",
       "    </tr>\n",
       "    <tr>\n",
       "      <th>studio</th>\n",
       "      <th></th>\n",
       "    </tr>\n",
       "  </thead>\n",
       "  <tbody>\n",
       "    <tr>\n",
       "      <th>FoxS</th>\n",
       "      <td>81.079196</td>\n",
       "    </tr>\n",
       "    <tr>\n",
       "      <th>Uni.</th>\n",
       "      <td>79.940195</td>\n",
       "    </tr>\n",
       "    <tr>\n",
       "      <th>ORF</th>\n",
       "      <td>76.452568</td>\n",
       "    </tr>\n",
       "    <tr>\n",
       "      <th>WB (NL)</th>\n",
       "      <td>76.435027</td>\n",
       "    </tr>\n",
       "    <tr>\n",
       "      <th>BV</th>\n",
       "      <td>74.163823</td>\n",
       "    </tr>\n",
       "    <tr>\n",
       "      <th>Fox</th>\n",
       "      <td>72.053318</td>\n",
       "    </tr>\n",
       "    <tr>\n",
       "      <th>SGem</th>\n",
       "      <td>70.724988</td>\n",
       "    </tr>\n",
       "    <tr>\n",
       "      <th>LGF</th>\n",
       "      <td>69.645511</td>\n",
       "    </tr>\n",
       "    <tr>\n",
       "      <th>Focus</th>\n",
       "      <td>69.250832</td>\n",
       "    </tr>\n",
       "    <tr>\n",
       "      <th>A24</th>\n",
       "      <td>68.012754</td>\n",
       "    </tr>\n",
       "  </tbody>\n",
       "</table>\n",
       "</div>"
      ],
      "text/plain": [
       "         profit_margin\n",
       "studio                \n",
       "FoxS         81.079196\n",
       "Uni.         79.940195\n",
       "ORF          76.452568\n",
       "WB (NL)      76.435027\n",
       "BV           74.163823\n",
       "Fox          72.053318\n",
       "SGem         70.724988\n",
       "LGF          69.645511\n",
       "Focus        69.250832\n",
       "A24          68.012754"
      ]
     },
     "execution_count": 15,
     "metadata": {},
     "output_type": "execute_result"
    }
   ],
   "source": [
    "### Removes studios with less than five movies:\n",
    "df_established = df_half_merge.groupby(\"studio\").filter(lambda x: len(x) > 5)\n",
    "\n",
    "### Creates a pivot table by studio and calculates median profit margin for their profitable films\n",
    "pivot = pd.pivot_table(df_established, values='profit_margin', index='studio', aggfunc=np.median)\n",
    "\n",
    "### Sorts by top median profit margin and returns the top ten\n",
    "pivot.sort_values(by='profit_margin', ascending=False).head(10)\n",
    "\n",
    "### Creates a list of the top 10 studios\n",
    "top_10_studios = list(pivot.sort_values(by='profit_margin', ascending=False).head(10).index)\n",
    "\n",
    "### Filtering the dataframe for only studios in our top 10 list\n",
    "df = df_established[df_established['studio'].isin(top_10_studios)]\n",
    "\n",
    "### Printing a pivot of the top ten studios\n",
    "pivot.sort_values(by='profit_margin', ascending=False).head(10)"
   ]
  },
  {
   "cell_type": "markdown",
   "metadata": {},
   "source": [
    "<h1 style=\"font-weight: normal\">Data Analysis and Recommendations</h1>"
   ]
  },
  {
   "cell_type": "markdown",
   "metadata": {},
   "source": [
    "<figure>\n",
    "    <img src=\"Illustrations/Movie Set Two.jpg\"\n",
    "         alt=\"Studio\"\n",
    "         width=\"300\"\n",
    "         height=\"150\">\n",
    "</figure>"
   ]
  },
  {
   "cell_type": "code",
   "execution_count": 16,
   "metadata": {},
   "outputs": [],
   "source": [
    "from matplotlib import pyplot as plt\n",
    "import seaborn as sns\n",
    "%matplotlib inline"
   ]
  },
  {
   "cell_type": "markdown",
   "metadata": {},
   "source": [
    "As Microsoft begins to design the first movie it will make as a new studio, the project team recommends the following based off of trends from studios that are currently the most profitable in the business:\n",
    "\n",
    "- Keep your movie length relatively short, ideally no longer than 104 minutes\n",
    "- When possible, do a worldwide release as it will increase your return on investment\n",
    "- Consider a springtime release, as this is when profitable studios do not typically release movies\n",
    "- Consider a movie in the Horror, Mystery, and Thriller space, as it both has shown to have the highest return on investment and is under represented in overall genre distribution"
   ]
  },
  {
   "cell_type": "markdown",
   "metadata": {},
   "source": [
    "<h2 style=\"font-weight: 100\">Average length of profitable movies from each studio</h2>"
   ]
  },
  {
   "cell_type": "code",
   "execution_count": 17,
   "metadata": {},
   "outputs": [
    {
     "data": {
      "image/png": "[encoded data removed]",
      "text/plain": [
       "<Figure size 720x360 with 1 Axes>"
      ]
     },
     "metadata": {
      "needs_background": "light"
     },
     "output_type": "display_data"
    },
    {
     "name": "stdout",
     "output_type": "stream",
     "text": [
      "The average movie length at the most profitable, established movie studios is 109 minutes \n",
      "The median movie length at the most profitable, established movie studios is 106 minutes \n",
      "The modal movie length at the most profitable, established movie studios is 97 minutes \n"
     ]
    }
   ],
   "source": [
    "plt.figure(figsize=(10, 5))\n",
    "ax = sns.barplot(x='studio', y='runtime_minutes', data=df, color='#3c4c51', ci=None)\n",
    "ax.set(xlabel = \"Studio\", ylabel = \"Average Runtime in Minutes\", title = \"Average Runtime for Profitable Movies\")\n",
    "plt.show()\n",
    "\n",
    "print(f\"The average movie length at the most profitable, established movie studios is {int(df['runtime_minutes'].mean())} minutes \")\n",
    "print(f\"The median movie length at the most profitable, established movie studios is {int(df['runtime_minutes'].median())} minutes \")\n",
    "print(f\"The modal movie length at the most profitable, established movie studios is {int(df['runtime_minutes'].mode())} minutes \")"
   ]
  },
  {
   "cell_type": "markdown",
   "metadata": {},
   "source": [
    "Recommendation: As seen above, the most profitable studios have had their most profitable movies relatively brief, which follows as typical consumption of media is trending towards more bite size entertainment. On their initial outing, Microsoft should consider keeping their movie around this length to maximize appeal and profitability. "
   ]
  },
  {
   "cell_type": "markdown",
   "metadata": {},
   "source": [
    "<h2 style=\"font-weight: 100\">International vs. Domestic Release Trends</h2>"
   ]
  },
  {
   "cell_type": "markdown",
   "metadata": {},
   "source": []
  },
  {
   "cell_type": "code",
   "execution_count": 18,
   "metadata": {},
   "outputs": [
    {
     "data": {
      "image/png": "[encoded data removed]",
      "text/plain": [
       "<Figure size 720x360 with 1 Axes>"
      ]
     },
     "metadata": {
      "needs_background": "light"
     },
     "output_type": "display_data"
    },
    {
     "name": "stdout",
     "output_type": "stream",
     "text": [
      "The correlation between production budget and worldwide sales is 0.7680864926400667\n",
      "The correlation between production budget and domestic only sales is 0.6746949653625384\n"
     ]
    }
   ],
   "source": [
    "plt.figure(figsize=(10, 5))\n",
    "ax = sns.regplot(data=df, x='production_budget', y='worldwide_gross', ci=0, label = 'Worldwide')\n",
    "ax = sns.regplot(data=df, x='production_budget', y='domestic_gross_x', ci=0, label = 'Domestic')\n",
    "ax.set(xlabel = \"Production Budget (in ten millions)\", ylabel = \"Gross Sales at Box Office (in ten millions)\", title = \"Budget to % Margin Relationship for Popular Genre Combinations\")\n",
    "ax.legend(loc='upper left', borderpad=.2)\n",
    "plt.show()\n",
    "\n",
    "ww_cor = df['production_budget'].corr(df[\"worldwide_gross\"])\n",
    "dom_cor = df['production_budget'].corr(df[\"domestic_gross_x\"])\n",
    "\n",
    "\n",
    "print(f\"The correlation between production budget and worldwide sales is {ww_cor}\")\n",
    "print(f\"The correlation between production budget and domestic only sales is {dom_cor}\")"
   ]
  },
  {
   "cell_type": "markdown",
   "metadata": {},
   "source": [
    "Recommendation: As seen above, the a worldwide release is more positively correlated with a worldwide release than a domestic only release. When practical, opt for a worldwide release as it will increase your returns"
   ]
  },
  {
   "cell_type": "markdown",
   "metadata": {},
   "source": [
    "<h2 style=\"font-weight: 100\">Most Active Release Window, month over month</h2>"
   ]
  },
  {
   "cell_type": "code",
   "execution_count": 19,
   "metadata": {},
   "outputs": [
    {
     "data": {
      "image/png": "[encoded data removed]",
      "text/plain": [
       "<Figure size 720x360 with 1 Axes>"
      ]
     },
     "metadata": {
      "needs_background": "light"
     },
     "output_type": "display_data"
    }
   ],
   "source": [
    "plt.figure(figsize=(10, 5))\n",
    "Months = ['Jan', 'Feb', 'Mar', 'Apr', 'May', 'Jun', 'Jul', 'Aug', 'Sep', 'Oct', 'Nov', 'Dec']\n",
    "ax = sns.countplot(x='month', data=df, order=Months, palette=\"crest\")\n",
    "ax.set(xlabel = \"Month of the Year\", ylabel = \"Count of Releases per Month\", title = \"Release timing for most profitable studios\")\n",
    "plt.show()"
   ]
  },
  {
   "cell_type": "markdown",
   "metadata": {},
   "source": [
    "Recommendation: As seen above, the most profitable studios tend to release their films in the summer or near the holiday season. Microsoft's intial outing could target times where the major studios are typically not releasing their films in order to have a better claim to threate marquee space "
   ]
  },
  {
   "cell_type": "markdown",
   "metadata": {},
   "source": [
    "<h2 style=\"font-weight: 100\">Popular Genre Combinations by Profitability</h2>"
   ]
  },
  {
   "cell_type": "code",
   "execution_count": 20,
   "metadata": {},
   "outputs": [],
   "source": [
    "### Preparing the dataframe to exclude NaN values when evaluating genres\n",
    "df_genres = df[df['genres'].notnull()]\n",
    "\n",
    "### Writing the genres to a list\n",
    "genre_list = list(df_genres['genres'])\n",
    "\n",
    "### Looping to create a unique value count of genres and sorting the results\n",
    "list_of_genres = []\n",
    "\n",
    "for genre in genre_list:\n",
    "    add = genre.split(',')\n",
    "    list_of_genres.append(add)\n",
    "\n",
    "unique_genres = {}\n",
    "\n",
    "for genre_list in list_of_genres:\n",
    "    for genre in genre_list:\n",
    "        if genre not in unique_genres:\n",
    "            unique_genres[genre] = 1\n",
    "        else:\n",
    "            unique_genres[genre] += 1\n",
    "\n",
    "unique_genres_sorted = dict(sorted(unique_genres.items(), key=lambda x:x[1], reverse=True))"
   ]
  },
  {
   "cell_type": "code",
   "execution_count": 21,
   "metadata": {
    "scrolled": false
   },
   "outputs": [
    {
     "data": {
      "image/png": "[encoded data removed]",
      "text/plain": [
       "<Figure size 720x360 with 1 Axes>"
      ]
     },
     "metadata": {
      "needs_background": "light"
     },
     "output_type": "display_data"
    }
   ],
   "source": [
    "plt.figure(figsize=(10, 5))\n",
    "ax = sns.barplot(x=list(unique_genres_sorted.keys()), y=list(unique_genres_sorted.values()), data=df, palette=\"YlOrRd_r\")\n",
    "ax.set(xlabel = \"Genre\", ylabel = \"Number of Films\", title = \"Genre Distribution\")\n",
    "plt.xticks(rotation=45)\n",
    "plt.show()"
   ]
  },
  {
   "cell_type": "code",
   "execution_count": 22,
   "metadata": {},
   "outputs": [
    {
     "data": {
      "image/png": "[encoded data removed]",
      "text/plain": [
       "<Figure size 905.875x360 with 1 Axes>"
      ]
     },
     "metadata": {
      "needs_background": "light"
     },
     "output_type": "display_data"
    }
   ],
   "source": [
    "### Creating a list of the top 8 genre combinations\n",
    "popular_genres = list(df['genres'].value_counts().index[0:9])\n",
    "df_genre_profitability = df[df['genres'].isin(popular_genres)]\n",
    "\n",
    "\n",
    "ax2 = sns.lmplot( x=\"production_budget\", \n",
    "           y=\"profit_margin\", \n",
    "           data=df_genre_profitability, \n",
    "           fit_reg=False, \n",
    "           hue='genres', \n",
    "           legend=True, \n",
    "           height=5, \n",
    "           aspect=2,\n",
    "           palette=[\"k\", \"k\", \"k\", \"k\", \"k\", \"k\" ,\"k\" , \"k\", \"C3\"])\n",
    "ax2.set(xlabel = \"Production Budget\", ylabel = \"Profit Margin\", title = \"Budget to % Margin Relationship for Popular Genre Combinations\")\n",
    "plt.show()"
   ]
  },
  {
   "cell_type": "markdown",
   "metadata": {},
   "source": [
    "Recommendation: As seen above, there is a tight clustered relation between profit margin and production budget for the horror, mystery, and thriller space. All three of these genres are typically under represented by the profitable studios as seen in the bar chart above."
   ]
  }
 ],
 "metadata": {
  "kernelspec": {
   "display_name": "Python (learn-env)",
   "language": "python",
   "name": "learn-env"
  },
  "language_info": {
   "codemirror_mode": {
    "name": "ipython",
    "version": 3
   },
   "file_extension": ".py",
   "mimetype": "text/x-python",
   "name": "python",
   "nbconvert_exporter": "python",
   "pygments_lexer": "ipython3",
   "version": "3.8.5"
  }
 },
 "nbformat": 4,
 "nbformat_minor": 4
}
