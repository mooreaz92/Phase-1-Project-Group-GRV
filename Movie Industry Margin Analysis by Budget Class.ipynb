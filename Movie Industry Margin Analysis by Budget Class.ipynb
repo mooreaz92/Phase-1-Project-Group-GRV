{
 "cells": [
  {
   "cell_type": "markdown",
   "metadata": {},
   "source": [
    "<h1 style=\"font-weight: big\">Movie Industry Margin Analysis by Budget Class</h1>"
   ]
  },
  {
   "cell_type": "markdown",
   "metadata": {},
   "source": [
    "<figure>\n",
    "    <img src=\"Illustrations/Movie Financing.png\"\n",
    "         alt=\"Movie Financing\"\n",
    "         width=\"400\"\n",
    "         height=\"200\">\n",
    "</figure>"
   ]
  },
  {
   "cell_type": "markdown",
   "metadata": {},
   "source": [
    "<h1 style=\"font-weight: normal\">Overview</h1>"
   ]
  },
  {
   "cell_type": "markdown",
   "metadata": {},
   "source": [
    "For Microsoft's new movie studio, this project analyzes the trends, tendencies, and genre representation of the most profitable, established, and active studios currently in the industry.\n",
    "\n",
    "Microsoft can use this information to inform its decision on what movie to produce, what characteristics it should have, and some genres to pursue."
   ]
  },
  {
   "cell_type": "markdown",
   "metadata": {},
   "source": [
    "<h1 style=\"font-weight: normal\">Business Problem</h1>"
   ]
  },
  {
   "cell_type": "markdown",
   "metadata": {},
   "source": [
    "<figure>\n",
    "    <img src=\"Illustrations/Movie Set.jpg\"\n",
    "         alt=\"Movie Set\"\n",
    "         width=\"400\"\n",
    "         height=\"200\">\n",
    "</figure>"
   ]
  },
  {
   "cell_type": "markdown",
   "metadata": {},
   "source": [
    "Microsoft is looking to make a move into the original video content space and is establishing a new studio. Being new to the movie space, Microsoft is looking to understand characteristics and behaviors of profitable films and studios.\n",
    "\n",
    "Analysis of historical financial trends at the box office will allow Microsoft to gain insight as to how to produce their first movie."
   ]
  },
  {
   "cell_type": "markdown",
   "metadata": {},
   "source": [
    "<h1 style=\"font-weight: normal\">Data Understanding</h1>"
   ]
  },
  {
   "cell_type": "markdown",
   "metadata": {},
   "source": [
    "<figure>\n",
    "    <img src=\"Illustrations/Tickets.png\"\n",
    "         alt=\"Ticket\"\n",
    "         width=\"300\"\n",
    "         height=\"150\">\n",
    "</figure>"
   ]
  },
  {
   "cell_type": "markdown",
   "metadata": {},
   "source": [
    "The project team has gathered historical box office information from Box Office Mojo as well as movie genre and run time from the online IMDB database.\n",
    "\n",
    "Our primary focus will be on identifying the most profitable studios currently active in the market, and then analyze their recent film outputs for trend and characteristic identification."
   ]
  },
  {
   "cell_type": "code",
   "execution_count": 1,
   "metadata": {},
   "outputs": [],
   "source": [
    "import pandas as pd\n",
    "df_budgets = pd.read_csv(\"Raw Data/tn.movie_budgets.csv.gz\")"
   ]
  },
  {
   "cell_type": "markdown",
   "metadata": {},
   "source": [
    "<h2 style=\"font-weight: 100\">Box Office Data</h2>"
   ]
  },
  {
   "cell_type": "markdown",
   "metadata": {},
   "source": [
    "The box office data from Box Office Mojo includes dates as far back as 1915 and as recent as Dec 2020. All numbers reported are in USD and 'worldwide_gross' and is inclusive of 'domestic_gross'"
   ]
  },
  {
   "cell_type": "code",
   "execution_count": 2,
   "metadata": {},
   "outputs": [
    {
     "data": {
      "text/html": [
       "<div>\n",
       "<style scoped>\n",
       "    .dataframe tbody tr th:only-of-type {\n",
       "        vertical-align: middle;\n",
       "    }\n",
       "\n",
       "    .dataframe tbody tr th {\n",
       "        vertical-align: top;\n",
       "    }\n",
       "\n",
       "    .dataframe thead th {\n",
       "        text-align: right;\n",
       "    }\n",
       "</style>\n",
       "<table border=\"1\" class=\"dataframe\">\n",
       "  <thead>\n",
       "    <tr style=\"text-align: right;\">\n",
       "      <th></th>\n",
       "      <th>id</th>\n",
       "      <th>release_date</th>\n",
       "      <th>movie</th>\n",
       "      <th>production_budget</th>\n",
       "      <th>domestic_gross</th>\n",
       "      <th>worldwide_gross</th>\n",
       "    </tr>\n",
       "  </thead>\n",
       "  <tbody>\n",
       "    <tr>\n",
       "      <th>0</th>\n",
       "      <td>1</td>\n",
       "      <td>Dec 18, 2009</td>\n",
       "      <td>Avatar</td>\n",
       "      <td>$425,000,000</td>\n",
       "      <td>$760,507,625</td>\n",
       "      <td>$2,776,345,279</td>\n",
       "    </tr>\n",
       "    <tr>\n",
       "      <th>1</th>\n",
       "      <td>2</td>\n",
       "      <td>May 20, 2011</td>\n",
       "      <td>Pirates of the Caribbean: On Stranger Tides</td>\n",
       "      <td>$410,600,000</td>\n",
       "      <td>$241,063,875</td>\n",
       "      <td>$1,045,663,875</td>\n",
       "    </tr>\n",
       "  </tbody>\n",
       "</table>\n",
       "</div>"
      ],
      "text/plain": [
       "   id  release_date                                        movie  \\\n",
       "0   1  Dec 18, 2009                                       Avatar   \n",
       "1   2  May 20, 2011  Pirates of the Caribbean: On Stranger Tides   \n",
       "\n",
       "  production_budget domestic_gross worldwide_gross  \n",
       "0      $425,000,000   $760,507,625  $2,776,345,279  \n",
       "1      $410,600,000   $241,063,875  $1,045,663,875  "
      ]
     },
     "execution_count": 2,
     "metadata": {},
     "output_type": "execute_result"
    }
   ],
   "source": [
    "df_budgets.head(2)"
   ]
  },
  {
   "cell_type": "markdown",
   "metadata": {},
   "source": [
    "<h2 style=\"font-weight: 100\">IMBD Movie information</h2>"
   ]
  },
  {
   "cell_type": "markdown",
   "metadata": {},
   "source": [
    "The IMBD data we will be pulling will be from the movie_basics table, a table with thousands of records that have information such as runtime, genre, and IMDB movie ID:"
   ]
  },
  {
   "cell_type": "code",
   "execution_count": 3,
   "metadata": {},
   "outputs": [],
   "source": [
    "### Importing relevant packages for SQL Databse Extraction\n",
    "import sqlite3\n",
    "conn = sqlite3.connect(\"Raw Data/Unzip/im.db\")\n",
    "cur = conn.cursor()\n",
    "\n",
    "### Extracting Movie Information as a dataframe\n",
    "df_movie_basics = pd.read_sql(\"\"\"\n",
    "SELECT *\n",
    "FROM movie_basics\n",
    "\"\"\", conn)"
   ]
  },
  {
   "cell_type": "markdown",
   "metadata": {},
   "source": [
    "<h1 style=\"font-weight: normal\">Data Preparation</h1>"
   ]
  },
  {
   "cell_type": "code",
   "execution_count": 4,
   "metadata": {},
   "outputs": [],
   "source": [
    "import datetime\n",
    "import string\n",
    "punct = '!\"#$%&\\'()*+,-./:;<=>?@[\\\\]^_`{}~'"
   ]
  },
  {
   "cell_type": "markdown",
   "metadata": {},
   "source": [
    "<h2 style=\"font-weight: 100\">Data Cleaning</h2>"
   ]
  },
  {
   "cell_type": "markdown",
   "metadata": {},
   "source": [
    "In order to make the box office data both easier to work with and easier to merge with other data sets, we will perform the following data cleaning exercises:\n",
    "\n",
    "- Budget and box office data will have the dollar signs and commas removed \n",
    "- Budget and box office data will be formatted as a number\n",
    "- Release date will be formatted as a date time object\n",
    "- Movie titles will be stripped of punctuation to make for a friendlier merges later"
   ]
  },
  {
   "cell_type": "code",
   "execution_count": 5,
   "metadata": {},
   "outputs": [],
   "source": [
    "### Removing dollar signs and commas, and reformatting as a number\n",
    "df_budgets['worldwide_gross'] = df_budgets['worldwide_gross'].str.replace('$', '').str.replace(',', '').astype(float)\n",
    "df_budgets['domestic_gross'] = df_budgets['domestic_gross'].str.replace('$', '').str.replace(',', '').astype(float)\n",
    "df_budgets['production_budget'] = df_budgets['production_budget'].str.replace('$', '').str.replace(',', '').astype(float)\n",
    "\n",
    "### Reformatting release_date as a datetime object\n",
    "df_budgets['release_date'] = pd.to_datetime(df_budgets['release_date'])\n",
    "\n",
    "### Removing punctuation from movie titles\n",
    "transtab = str.maketrans(dict.fromkeys(punct, ''))\n",
    "df_budgets['movie'] = '|'.join(df_budgets['movie'].tolist()).translate(transtab).split('|')"
   ]
  },
  {
   "cell_type": "markdown",
   "metadata": {},
   "source": [
    "<h2 style=\"font-weight: 100\">Feature Engineering</h2>"
   ]
  },
  {
   "cell_type": "markdown",
   "metadata": {},
   "source": [
    "We added certain columns to create fields that can be merged on later, as well as financial metric columns for further analysis. In short:\n",
    "\n",
    "- We created a 'year' column from the 'release_date' datetime object\n",
    "- We created a 'movie_and_year' column, which combines 'movie' and 'year'\n",
    "- We created a 'international_gross' column, which subtracts 'domestic_gross' from 'worldwide_gross'\n",
    "- We created a 'profit' column, which is calculated as 'worldwide_gross' - 'production budget'\n",
    "- We created a 'profit_margin' column, which is calculated as ('profit' / 'worldwide_gross')\n",
    "\n",
    "We also added a new column, budget_tier, which assigns categories to each of the production budgets based on their value:\n",
    "\n",
    "- 10m and below: very-low budget\n",
    "- Between 10m and 30m: low budget\n",
    "- Between 30m and 50m: middle budget\n",
    "- Between 50m and 70m: high budget\n",
    "- Between 70m and up: very-high budget"
   ]
  },
  {
   "cell_type": "code",
   "execution_count": 6,
   "metadata": {},
   "outputs": [],
   "source": [
    "### Creation of 'year', 'month' and 'movie_and_year' columns\n",
    "df_budgets['year'] = df_budgets['release_date'].dt.strftime('%Y')\n",
    "df_budgets['month'] = df_budgets['release_date'].dt.strftime('%b')\n",
    "df_budgets['movie_and_year'] = df_budgets['movie'] + \" - \" + df_budgets['year']\n",
    "\n",
    "### Creation of 'profit' and 'profit_margin' columns\n",
    "df_budgets['profit'] = df_budgets['worldwide_gross'] - df_budgets['production_budget']\n",
    "df_budgets['profit_margin'] = (df_budgets['profit'] / df_budgets['worldwide_gross']) * 100\n",
    "\n",
    "### Converting 'year' back into a numeric value\n",
    "df_budgets['year'] = df_budgets['year'].map(int)\n",
    "\n",
    "### Creation of 'international gross' column\n",
    "df_budgets['international_gross'] = df_budgets['worldwide_gross'] - df_budgets['domestic_gross']\n",
    "\n",
    "### Adding in a 'budget_tier' column to classify each production budget value\n",
    "budget_tier = []\n",
    "for row in df_budgets['production_budget']:\n",
    "    if row < 10000000 :    budget_tier.append('Very-Low Budget')\n",
    "    elif row < 30000000:   budget_tier.append('Low Budget')\n",
    "    elif row < 50000000:  budget_tier.append('Middle Budget')\n",
    "    elif row < 70000000:  budget_tier.append('High Budget')\n",
    "    else: budget_tier.append('Super-High Budget')\n",
    "\n",
    "df_budgets['budget_tier'] = budget_tier"
   ]
  },
  {
   "cell_type": "markdown",
   "metadata": {},
   "source": [
    "<h2 style=\"font-weight: 100\">Data Filtering</h2>"
   ]
  },
  {
   "cell_type": "markdown",
   "metadata": {},
   "source": [
    "While considering the business needs of Microsoft, the project team analyzed the data set and found certain subsections of data which would not be relevant for purposes of margin analysis. These subsets of data include:\n",
    "\n",
    "- Filter 1: Movies that had a very small or non-existant box office release *(less than 50k worldwide_gross)*\n",
    "- Filter 2: Movies that were release recently *(released after year 2013)*\n",
    "- Filter 3: Movies with budgets that would likely not be considered business-practical in scope by Microsoft *(budget of less than 500k)*\n",
    "- Filter 4: Movies that made money (profit margin above 0%)*"
   ]
  },
  {
   "cell_type": "code",
   "execution_count": 7,
   "metadata": {},
   "outputs": [],
   "source": [
    "### Filter 1\n",
    "df_budgets = df_budgets[(df_budgets['worldwide_gross'] > 50000)]\n",
    "\n",
    "### Filter 2\n",
    "df_budgets = df_budgets[df_budgets['year'] > 2013]\n",
    "\n",
    "### Filter 3\n",
    "df_budgets = df_budgets[(df_budgets['production_budget'] > 500000)]\n",
    "\n",
    "### Filter 4\n",
    "df_budgets = df_budgets[(df_budgets['profit_margin'] > 0)]"
   ]
  },
  {
   "cell_type": "markdown",
   "metadata": {},
   "source": [
    "<h2 style=\"font-weight: 100\">Data Merging (to add studio name from additional csv)</h2>"
   ]
  },
  {
   "cell_type": "markdown",
   "metadata": {},
   "source": [
    "This data will be left merged with \"bom.movie_gross.csv.gz\" in order to append studio to the movie title"
   ]
  },
  {
   "cell_type": "code",
   "execution_count": 8,
   "metadata": {},
   "outputs": [],
   "source": [
    "### Importing the CSV\n",
    "df_studio = pd.read_csv(\"Raw Data/bom.movie_gross.csv.gz\")\n",
    "\n",
    "### Cleaning punctionation in title and making a movie_and_year column, similar to the budgets file\n",
    "df_studio['year'] = df_studio['year'].map(str)\n",
    "df_studio['movie_and_year'] = df_studio['title'] + \" - \" + df_studio['year']\n",
    "\n",
    "### Merging the files\n",
    "df_merged = df_budgets.merge(df_studio, how=\"left\", on=\"movie_and_year\")"
   ]
  },
  {
   "cell_type": "markdown",
   "metadata": {},
   "source": [
    "Analysis of lost data:"
   ]
  },
  {
   "cell_type": "code",
   "execution_count": 9,
   "metadata": {
    "scrolled": true
   },
   "outputs": [
    {
     "data": {
      "text/plain": [
       "292"
      ]
     },
     "execution_count": 9,
     "metadata": {},
     "output_type": "execute_result"
    }
   ],
   "source": [
    "df_merged['title'].isna().sum()"
   ]
  },
  {
   "cell_type": "markdown",
   "metadata": {},
   "source": [
    "292 records were unable to be merged with their affiliated studio, leaving an analysis of 391 profitable movies"
   ]
  },
  {
   "cell_type": "code",
   "execution_count": 10,
   "metadata": {
    "scrolled": false
   },
   "outputs": [],
   "source": [
    "df_films_studio_profitable = df_merged[pd.notnull(df_merged['title'])]"
   ]
  },
  {
   "cell_type": "markdown",
   "metadata": {},
   "source": [
    "<h2 style=\"font-weight: 100\">Data Merging (to add IMBD information)</h2>"
   ]
  },
  {
   "cell_type": "markdown",
   "metadata": {},
   "source": [
    "For our analysis over the profitable movies produced by the top ten studios, we will merge information found in the movie_basics table of the IMDB database for further analysis of runtime and genres."
   ]
  },
  {
   "cell_type": "code",
   "execution_count": 11,
   "metadata": {},
   "outputs": [],
   "source": [
    "### Cleaning the primary title of punctuation\n",
    "transtab = str.maketrans(dict.fromkeys(punct, ''))\n",
    "df_movie_basics['primary_title'] = '|'.join(df_movie_basics['primary_title'].tolist()).translate(transtab).split('|')\n",
    "\n",
    "### Making a 'movie_and_year' column to merge on\n",
    "df_movie_basics['start_year'] = df_movie_basics['start_year'].map(str)\n",
    "df_movie_basics['movie_and_year'] = df_movie_basics['primary_title'] + \" - \" + df_movie_basics['start_year']\n",
    "df_movie_basics['start_year'] = df_movie_basics['start_year'].map(int)\n",
    "\n",
    "### Merging movie id\n",
    "df_half_merge = df_films_studio_profitable.merge(df_movie_basics, how=\"left\", on=\"movie_and_year\")"
   ]
  },
  {
   "cell_type": "markdown",
   "metadata": {},
   "source": [
    "<h2 style=\"font-weight: 100\">Removing Duplicates from Merge</h2>"
   ]
  },
  {
   "cell_type": "markdown",
   "metadata": {},
   "source": [
    "Because we did a left merge, we will revmoe for duplicates in the movie_and_year column to ensure values are not over inflated for certain studios or films:"
   ]
  },
  {
   "cell_type": "code",
   "execution_count": 12,
   "metadata": {},
   "outputs": [
    {
     "name": "stdout",
     "output_type": "stream",
     "text": [
      "There are 25 duplicate entries on movie_and_year to delete\n",
      "Currently there are 404 records in the dataframe\n"
     ]
    }
   ],
   "source": [
    "### To check for indexes of duplicate values\n",
    "index_to_delete = df_half_merge[df_half_merge.duplicated(['movie_and_year'], keep=False)].index\n",
    "print(f\"There are {len(index_to_delete)} duplicate entries on movie_and_year to delete\")\n",
    "print(f\"Currently there are {len(df_half_merge.index)} records in the dataframe\")"
   ]
  },
  {
   "cell_type": "code",
   "execution_count": 13,
   "metadata": {},
   "outputs": [
    {
     "data": {
      "text/plain": [
       "404"
      ]
     },
     "execution_count": 13,
     "metadata": {},
     "output_type": "execute_result"
    }
   ],
   "source": [
    "len(df_half_merge.index)"
   ]
  },
  {
   "cell_type": "code",
   "execution_count": 14,
   "metadata": {
    "scrolled": true
   },
   "outputs": [
    {
     "name": "stdout",
     "output_type": "stream",
     "text": [
      "Records after deletion of duplicates: 379\n"
     ]
    }
   ],
   "source": [
    "df_full_merge = df_half_merge.drop(index_to_delete)\n",
    "print(f\"Records after deletion of duplicates: {len(df_full_merge.index)}\")"
   ]
  },
  {
   "cell_type": "markdown",
   "metadata": {},
   "source": [
    "The drop duplicates is complete"
   ]
  },
  {
   "cell_type": "markdown",
   "metadata": {},
   "source": [
    "<h2 style=\"font-weight: 100\">Determining studios with the highest profit</h2>"
   ]
  },
  {
   "cell_type": "code",
   "execution_count": 15,
   "metadata": {},
   "outputs": [],
   "source": [
    "import numpy as np"
   ]
  },
  {
   "cell_type": "markdown",
   "metadata": {},
   "source": [
    "For our analysis, it is important that Microsoft partners with a studio that has a proven track record of profitable movies. As such, we will look for studios with the highest median profit margin that also have put out at least five profitable movies since 2013"
   ]
  },
  {
   "cell_type": "code",
   "execution_count": 16,
   "metadata": {},
   "outputs": [
    {
     "data": {
      "text/html": [
       "<div>\n",
       "<style scoped>\n",
       "    .dataframe tbody tr th:only-of-type {\n",
       "        vertical-align: middle;\n",
       "    }\n",
       "\n",
       "    .dataframe tbody tr th {\n",
       "        vertical-align: top;\n",
       "    }\n",
       "\n",
       "    .dataframe thead th {\n",
       "        text-align: right;\n",
       "    }\n",
       "</style>\n",
       "<table border=\"1\" class=\"dataframe\">\n",
       "  <thead>\n",
       "    <tr style=\"text-align: right;\">\n",
       "      <th></th>\n",
       "      <th>profit_margin</th>\n",
       "    </tr>\n",
       "    <tr>\n",
       "      <th>studio</th>\n",
       "      <th></th>\n",
       "    </tr>\n",
       "  </thead>\n",
       "  <tbody>\n",
       "    <tr>\n",
       "      <th>FoxS</th>\n",
       "      <td>81.079196</td>\n",
       "    </tr>\n",
       "    <tr>\n",
       "      <th>Uni.</th>\n",
       "      <td>79.940195</td>\n",
       "    </tr>\n",
       "    <tr>\n",
       "      <th>TriS</th>\n",
       "      <td>76.748521</td>\n",
       "    </tr>\n",
       "    <tr>\n",
       "      <th>ORF</th>\n",
       "      <td>74.562478</td>\n",
       "    </tr>\n",
       "    <tr>\n",
       "      <th>WB (NL)</th>\n",
       "      <td>72.794879</td>\n",
       "    </tr>\n",
       "    <tr>\n",
       "      <th>Fox</th>\n",
       "      <td>72.053318</td>\n",
       "    </tr>\n",
       "    <tr>\n",
       "      <th>SGem</th>\n",
       "      <td>70.724988</td>\n",
       "    </tr>\n",
       "    <tr>\n",
       "      <th>Wein.</th>\n",
       "      <td>70.298025</td>\n",
       "    </tr>\n",
       "    <tr>\n",
       "      <th>BV</th>\n",
       "      <td>69.819268</td>\n",
       "    </tr>\n",
       "    <tr>\n",
       "      <th>LGF</th>\n",
       "      <td>68.071778</td>\n",
       "    </tr>\n",
       "  </tbody>\n",
       "</table>\n",
       "</div>"
      ],
      "text/plain": [
       "         profit_margin\n",
       "studio                \n",
       "FoxS         81.079196\n",
       "Uni.         79.940195\n",
       "TriS         76.748521\n",
       "ORF          74.562478\n",
       "WB (NL)      72.794879\n",
       "Fox          72.053318\n",
       "SGem         70.724988\n",
       "Wein.        70.298025\n",
       "BV           69.819268\n",
       "LGF          68.071778"
      ]
     },
     "execution_count": 16,
     "metadata": {},
     "output_type": "execute_result"
    }
   ],
   "source": [
    "### Removes studios with less than five movies:\n",
    "df_established = df_full_merge.groupby(\"studio\").filter(lambda x: len(x) > 5)\n",
    "\n",
    "### Creates a pivot table by studio and calculates median profit margin for their profitable films\n",
    "pivot = pd.pivot_table(df_established, values='profit_margin', index='studio', aggfunc=np.median)\n",
    "\n",
    "### Sorts by top median profit margin and returns the top ten\n",
    "pivot.sort_values(by='profit_margin', ascending=False).head(10)\n",
    "\n",
    "### Creates a list of the top 10 studios\n",
    "top_10_studios = list(pivot.sort_values(by='profit_margin', ascending=False).head(10).index)\n",
    "\n",
    "### Filtering the dataframe for only studios in our top 10 list\n",
    "df = df_established[df_established['studio'].isin(top_10_studios)]\n",
    "\n",
    "### Printing a pivot of the top ten studios\n",
    "pivot.sort_values(by='profit_margin', ascending=False).head(10)"
   ]
  },
  {
   "cell_type": "markdown",
   "metadata": {},
   "source": [
    "<h1 style=\"font-weight: normal\">Data Analysis and Recommendations</h1>"
   ]
  },
  {
   "cell_type": "markdown",
   "metadata": {},
   "source": [
    "<figure>\n",
    "    <img src=\"Illustrations/Movie Set Two.jpg\"\n",
    "         alt=\"Studio\"\n",
    "         width=\"300\"\n",
    "         height=\"150\">\n",
    "</figure>"
   ]
  },
  {
   "cell_type": "code",
   "execution_count": 17,
   "metadata": {},
   "outputs": [],
   "source": [
    "from matplotlib import pyplot as plt\n",
    "import seaborn as sns\n",
    "%matplotlib inline"
   ]
  },
  {
   "cell_type": "markdown",
   "metadata": {},
   "source": [
    "As Microsoft begins to design the first movie it will make as a new studio, the project team recommends the following based off of trends from studios that are currently the most profitable in the business:\n",
    "\n",
    "- Keep your movie length relatively short, ideally no longer than 104 minutes\n",
    "- Consider a movie in the Horror, Mystery, and Thriller space, as it both has shown to have the highest return on investment and is under represented in overall genre distribution\n",
    "- When possible, do a worldwide release as worldwide releases provide higher returns on investment\n",
    "- Consider partnering with studios with the genre expertise and profitability track record"
   ]
  },
  {
   "cell_type": "markdown",
   "metadata": {},
   "source": [
    "<h2 style=\"font-weight: 100\">Average length of profitable movies from each studio</h2>"
   ]
  },
  {
   "cell_type": "code",
   "execution_count": 18,
   "metadata": {},
   "outputs": [
    {
     "data": {
      "image/png": "[encoded data removed]",
      "text/plain": [
       "<Figure size 720x360 with 1 Axes>"
      ]
     },
     "metadata": {
      "needs_background": "light"
     },
     "output_type": "display_data"
    },
    {
     "name": "stdout",
     "output_type": "stream",
     "text": [
      "The average movie length at the most profitable, established movie studios is 110 minutes \n",
      "The median movie length at the most profitable, established movie studios is 107 minutes \n"
     ]
    }
   ],
   "source": [
    "### Using Seaborn to visualize average runtime per studio, and charting the mean\n",
    "plt.figure(figsize=(10, 5))\n",
    "plot_order = df.groupby('studio')['runtime_minutes'].mean().sort_values(ascending=False).index.values\n",
    "ax = sns.barplot(x='studio', y='runtime_minutes', data=df, color='#3c4c51', ci=None, order=plot_order)\n",
    "ax.set(xlabel = \"Studio\", ylabel = \"Average Runtime in Minutes\", title = \"Average Runtime for Profitable Movies\")\n",
    "plt.axhline(df['runtime_minutes'].median(), label ='Mean Runtime', color ='red')\n",
    "\n",
    "### Displaying figure\n",
    "plt.show()\n",
    "\n",
    "\n",
    "### Printing som high level statistical data\n",
    "print(f\"The average movie length at the most profitable, established movie studios is {int(df['runtime_minutes'].mean())} minutes \")\n",
    "print(f\"The median movie length at the most profitable, established movie studios is {int(df['runtime_minutes'].median())} minutes \")"
   ]
  },
  {
   "cell_type": "markdown",
   "metadata": {},
   "source": [
    "Recommendation: As seen above, the most profitable studios have had their most profitable movies relatively brief, which follows as typical consumption of media is trending towards more bite size entertainment. On their initial outing, Microsoft should consider keeping their movie around this length to maximize appeal and profitability. "
   ]
  },
  {
   "cell_type": "markdown",
   "metadata": {},
   "source": [
    "<h2 style=\"font-weight: 100\">International vs. Domestic Release Trends</h2>"
   ]
  },
  {
   "cell_type": "code",
   "execution_count": 19,
   "metadata": {},
   "outputs": [
    {
     "data": {
      "image/png": "[encoded data removed]",
      "text/plain": [
       "<Figure size 720x360 with 1 Axes>"
      ]
     },
     "metadata": {
      "needs_background": "light"
     },
     "output_type": "display_data"
    },
    {
     "name": "stdout",
     "output_type": "stream",
     "text": [
      "The correlation between production budget and international sales is 0.7505051385563298\n",
      "The correlation between production budget and domestic only sales is 0.6521353924208009\n"
     ]
    }
   ],
   "source": [
    "plt.figure(figsize=(10, 5))\n",
    "ax = sns.regplot(data=df, x='production_budget', y='international_gross', ci=0, label = 'International Only')\n",
    "ax = sns.regplot(data=df, x='production_budget', y='domestic_gross_x', ci=0, label = 'Domestic Only')\n",
    "ax.set(xlabel = \"Production Budget (in ten millions)\", ylabel = \"Gross Sales at Box Office (in ten millions)\", title = \"Budget to Gross Sales Relationship\")\n",
    "ax.legend(loc='upper left', borderpad=.2)\n",
    "plt.show()\n",
    "\n",
    "ww_cor = df['production_budget'].corr(df[\"international_gross\"])\n",
    "dom_cor = df['production_budget'].corr(df[\"domestic_gross_x\"])\n",
    "\n",
    "\n",
    "print(f\"The correlation between production budget and international sales is {ww_cor}\")\n",
    "print(f\"The correlation between production budget and domestic only sales is {dom_cor}\")"
   ]
  },
  {
   "cell_type": "markdown",
   "metadata": {},
   "source": [
    "It is clear from the above analysis that there is a stronger positive correlation between production budget and international box office vs. production budget and domestic budget. Further investigation by budget class:"
   ]
  },
  {
   "cell_type": "code",
   "execution_count": 20,
   "metadata": {},
   "outputs": [
    {
     "data": {
      "text/html": [
       "<div>\n",
       "<style scoped>\n",
       "    .dataframe tbody tr th:only-of-type {\n",
       "        vertical-align: middle;\n",
       "    }\n",
       "\n",
       "    .dataframe tbody tr th {\n",
       "        vertical-align: top;\n",
       "    }\n",
       "\n",
       "    .dataframe thead th {\n",
       "        text-align: right;\n",
       "    }\n",
       "</style>\n",
       "<table border=\"1\" class=\"dataframe\">\n",
       "  <thead>\n",
       "    <tr style=\"text-align: right;\">\n",
       "      <th></th>\n",
       "      <th>budget_tier</th>\n",
       "      <th>international_gross</th>\n",
       "      <th>domestic_gross_x</th>\n",
       "      <th>production_budget</th>\n",
       "    </tr>\n",
       "  </thead>\n",
       "  <tbody>\n",
       "    <tr>\n",
       "      <th>0</th>\n",
       "      <td>High Budget</td>\n",
       "      <td>1.535060e+08</td>\n",
       "      <td>1.011539e+08</td>\n",
       "      <td>5.891000e+07</td>\n",
       "    </tr>\n",
       "    <tr>\n",
       "      <th>1</th>\n",
       "      <td>Low Budget</td>\n",
       "      <td>3.881454e+07</td>\n",
       "      <td>5.063792e+07</td>\n",
       "      <td>1.844375e+07</td>\n",
       "    </tr>\n",
       "    <tr>\n",
       "      <th>2</th>\n",
       "      <td>Middle Budget</td>\n",
       "      <td>9.021468e+07</td>\n",
       "      <td>7.344584e+07</td>\n",
       "      <td>3.612500e+07</td>\n",
       "    </tr>\n",
       "    <tr>\n",
       "      <th>3</th>\n",
       "      <td>Super-High Budget</td>\n",
       "      <td>3.798055e+08</td>\n",
       "      <td>2.029276e+08</td>\n",
       "      <td>1.393680e+08</td>\n",
       "    </tr>\n",
       "    <tr>\n",
       "      <th>4</th>\n",
       "      <td>Very-Low Budget</td>\n",
       "      <td>3.206038e+07</td>\n",
       "      <td>3.952003e+07</td>\n",
       "      <td>5.557692e+06</td>\n",
       "    </tr>\n",
       "  </tbody>\n",
       "</table>\n",
       "</div>"
      ],
      "text/plain": [
       "         budget_tier  international_gross  domestic_gross_x  production_budget\n",
       "0        High Budget         1.535060e+08      1.011539e+08       5.891000e+07\n",
       "1         Low Budget         3.881454e+07      5.063792e+07       1.844375e+07\n",
       "2      Middle Budget         9.021468e+07      7.344584e+07       3.612500e+07\n",
       "3  Super-High Budget         3.798055e+08      2.029276e+08       1.393680e+08\n",
       "4    Very-Low Budget         3.206038e+07      3.952003e+07       5.557692e+06"
      ]
     },
     "execution_count": 20,
     "metadata": {},
     "output_type": "execute_result"
    }
   ],
   "source": [
    "df_bt = df.groupby(\"budget_tier\").mean()\n",
    "df_bt_small = df_bt[[\"international_gross\", \"domestic_gross_x\", \"production_budget\"]]\n",
    "\n",
    "df_bt_small.reset_index(inplace=True)\n",
    "df_bt_small.head()"
   ]
  },
  {
   "cell_type": "markdown",
   "metadata": {},
   "source": [
    "The above data was plotted in excel as after hours of troubleshooting, no side-by-side bar chart was able to be produced in Seaborn. See below for results:"
   ]
  },
  {
   "cell_type": "markdown",
   "metadata": {},
   "source": [
    "<figure>\n",
    "    <img src=\"Illustrations/Average Box Office vs Budget.png\"\n",
    "         alt=\"Movie Set\"\n",
    "         width=\"800\"\n",
    "         height=\"400\">\n",
    "</figure>"
   ]
  },
  {
   "cell_type": "markdown",
   "metadata": {},
   "source": [
    "Recommendation: As seen above, the a worldwide release is more positively correlated with a worldwide release than a domestic only release. When practical, opt for a worldwide release as it will increase your returns"
   ]
  },
  {
   "cell_type": "markdown",
   "metadata": {},
   "source": [
    "<h2 style=\"font-weight: 100\">Popular Genre Combinations by Profitability</h2>"
   ]
  },
  {
   "cell_type": "code",
   "execution_count": 21,
   "metadata": {},
   "outputs": [],
   "source": [
    "### Preparing the dataframe to exclude NaN values when evaluating genres\n",
    "df_genres = df[df['genres'].notnull()]\n",
    "\n",
    "### Writing the genres to a list\n",
    "genre_list = list(df_genres['genres'])\n",
    "\n",
    "### Looping to create a unique value count of genres and sorting the results\n",
    "list_of_genres = []\n",
    "\n",
    "for genre in genre_list:\n",
    "    add = genre.split(',')\n",
    "    list_of_genres.append(add)\n",
    "\n",
    "unique_genres = {}\n",
    "\n",
    "for genre_list in list_of_genres:\n",
    "    for genre in genre_list:\n",
    "        if genre not in unique_genres:\n",
    "            unique_genres[genre] = 1\n",
    "        else:\n",
    "            unique_genres[genre] += 1\n",
    "\n",
    "unique_genres_sorted = dict(sorted(unique_genres.items(), key=lambda x:x[1], reverse=True))"
   ]
  },
  {
   "cell_type": "code",
   "execution_count": 22,
   "metadata": {
    "scrolled": false
   },
   "outputs": [
    {
     "data": {
      "image/png": "[encoded data removed]",
      "text/plain": [
       "<Figure size 720x360 with 1 Axes>"
      ]
     },
     "metadata": {
      "needs_background": "light"
     },
     "output_type": "display_data"
    }
   ],
   "source": [
    "plt.figure(figsize=(10, 5))\n",
    "ax = sns.barplot(x=list(unique_genres_sorted.keys()), y=list(unique_genres_sorted.values()), data=df, palette=\"YlOrRd_r\")\n",
    "ax.set(xlabel = \"Genre\", ylabel = \"Number of Films\", title = \"10 Year Genre Distribution Among Profitable Studios\")\n",
    "plt.xticks(rotation=45)\n",
    "plt.show()"
   ]
  },
  {
   "cell_type": "code",
   "execution_count": 23,
   "metadata": {},
   "outputs": [
    {
     "data": {
      "image/png": "[encoded data removed]",
      "text/plain": [
       "<Figure size 545.875x360 with 1 Axes>"
      ]
     },
     "metadata": {
      "needs_background": "light"
     },
     "output_type": "display_data"
    }
   ],
   "source": [
    "### Creating a list of the top 8 genre combinations\n",
    "popular_genres = list(df['genres'].value_counts().index[0:9])\n",
    "df_genre_profitability = df[df['genres'].isin(popular_genres)]\n",
    "\n",
    "\n",
    "ax2 = sns.lmplot( x=\"production_budget\", \n",
    "           y=\"profit_margin\", \n",
    "           data=df_genre_profitability, \n",
    "           fit_reg=False, \n",
    "           hue='genres', \n",
    "           legend=True, \n",
    "           height=5, \n",
    "           aspect=1,\n",
    "           palette=[\"k\", \"k\", \"k\", \"k\", \"k\", \"k\" ,\"k\" , \"k\", \"C3\"])\n",
    "ax2.set(xlabel = \"Production Budget in hundreds of millions USD\", ylabel = \"% Profit Margin\", title = \"Budget vs % Margin for Popular Genre Combinations\")\n",
    "plt.show()"
   ]
  },
  {
   "cell_type": "markdown",
   "metadata": {},
   "source": [
    "Recommendation: As seen above, there is a tight clustered relation between profit margin and production budget for the horror, mystery, and thriller space. All three of these genres are typically under represented by the profitable studios as seen in the bar chart above. Let's go one further and see which studios go the best with horror films."
   ]
  },
  {
   "cell_type": "markdown",
   "metadata": {},
   "source": [
    "<h2 style=\"font-weight: 100\">Top Profitable Horror, Mystery, and Thriller Studios</h2>"
   ]
  },
  {
   "cell_type": "code",
   "execution_count": 24,
   "metadata": {},
   "outputs": [],
   "source": [
    "target_genres = ['Horror', 'Horror,Mystery,Thriller', 'Horror,Thriller']\n",
    "df_horror = df[df['genres'].isin(target_genres)]"
   ]
  },
  {
   "cell_type": "code",
   "execution_count": 25,
   "metadata": {
    "scrolled": true
   },
   "outputs": [
    {
     "data": {
      "image/png": "[encoded data removed]",
      "text/plain": [
       "<Figure size 720x360 with 1 Axes>"
      ]
     },
     "metadata": {
      "needs_background": "light"
     },
     "output_type": "display_data"
    }
   ],
   "source": [
    "plt.figure(figsize=(10, 5))\n",
    "plot_order = df_horror.groupby('studio')['international_gross'].mean().sort_values(ascending=False).index.values\n",
    "ax = sns.barplot(x='studio', y='international_gross', data=df_horror, palette=\"icefire_r\", ci=None, order=plot_order)\n",
    "ax.set(xlabel = \"Studio\", ylabel = \"Average International Gross in Hundreds of Millions\", title = \"Average International Gross in Hundreds of Millions\")\n",
    "plt.axhline(df_horror['international_gross'].median(), label ='Mean Intl Gross', color ='red')\n",
    "plt.show()"
   ]
  },
  {
   "cell_type": "markdown",
   "metadata": {},
   "source": [
    "<h1 style=\"font-weight: normal\">Evaluation</h1>"
   ]
  },
  {
   "cell_type": "markdown",
   "metadata": {},
   "source": [
    "The lessons learned from the most profitable studios are:\n",
    "   - Runtime should stay at around 107 minutes\n",
    "   - International box office returns increase exponetially as budget increases\n",
    "   - Horror, Mystery, and Thriller genres are underrepresented but highly lucrative\n",
    "   - If Microsoft were to persue a partnership in this field, they should partner with WB (NL) who have major horror blockbusters such as Annabelle and the IT series\n",
    "\n"
   ]
  },
  {
   "cell_type": "markdown",
   "metadata": {},
   "source": [
    "<h1 style=\"font-weight: normal\">Conclusions</h1>"
   ]
  },
  {
   "cell_type": "markdown",
   "metadata": {},
   "source": [
    "- There are important lessons to be learned about the most profitable studios in the industry and the business landscape they operate in.\n",
    "\n",
    "- Our sample of profitable movies from profitable studios was limited to 10 studios and 192 feature films. This was chosen for reasons explained in data filtering, but we could expand to other studios given more time to provide further insight.\n",
    "\n",
    "- We could also continue our studio analysis to identify the top people in the business as well as additional analysis on the critic and user reviews of each movie and see if there is a correlation with return on investment"
   ]
  }
 ],
 "metadata": {
  "kernelspec": {
   "display_name": "Python (learn-env)",
   "language": "python",
   "name": "learn-env"
  },
  "language_info": {
   "codemirror_mode": {
    "name": "ipython",
    "version": 3
   },
   "file_extension": ".py",
   "mimetype": "text/x-python",
   "name": "python",
   "nbconvert_exporter": "python",
   "pygments_lexer": "ipython3",
   "version": "3.8.5"
  }
 },
 "nbformat": 4,
 "nbformat_minor": 4
}
