{
 "cells": [
  {
   "cell_type": "markdown",
   "metadata": {},
   "source": [
    "<h1 style=\"font-weight: big\">An Analysis on Profitable Movie Studios for Microsoft</h1>"
   ]
  },
  {
   "cell_type": "markdown",
   "metadata": {},
   "source": [
    "<figure>\n",
    "    <img src=\"Illustrations/Movie Financing.png\"\n",
    "         alt=\"Movie Financing\"\n",
    "         width=\"400\"\n",
    "         height=\"200\">\n",
    "</figure>"
   ]
  },
  {
   "cell_type": "markdown",
   "metadata": {},
   "source": [
    "<h1 style=\"font-weight: normal\">Authors</h1>"
   ]
  },
  {
   "cell_type": "markdown",
   "metadata": {},
   "source": [
    "Ryan Moore, Gligor Vasilev, and Vinnie Amadio"
   ]
  },
  {
   "cell_type": "markdown",
   "metadata": {},
   "source": [
    "<h1 style=\"font-weight: normal\">Overview</h1>"
   ]
  },
  {
   "cell_type": "markdown",
   "metadata": {},
   "source": [
    "The engagement team is tasked to advise Microsoft on how they can premier their first movie successfully and profitably. \n",
    "\n",
    "We investigated the profitable movies of the top ten profitable studios to see if there are trends and market opportunities that would be relevant to Microsoft as they produce their first original movie."
   ]
  },
  {
   "cell_type": "markdown",
   "metadata": {},
   "source": [
    "<h1 style=\"font-weight: normal\">Business Problem</h1>"
   ]
  },
  {
   "cell_type": "markdown",
   "metadata": {},
   "source": [
    "Microsoft is looking to break into the movie business, however they are unsure of the space. We are here to help visualize what movies have been profitable, which studios have released those, and what Microsoft can learn from these trends.\n",
    "\n",
    "We first looked to see if there was any trends in average runtime that Microsoft should know about, analyzed any trends between budget spend amount and domestic and international returns, and then evaluated the movie landscape to see if there were any genres that were both underrepresented and historically very profitable."
   ]
  },
  {
   "cell_type": "markdown",
   "metadata": {},
   "source": [
    "<h1 style=\"font-weight: normal\">Data</h1>"
   ]
  },
  {
   "cell_type": "markdown",
   "metadata": {},
   "source": [
    "The dataset we are usin is derived from 'imdb.title.basics.csv' (IMDb), 'bom.movie_gross.csv' (Box Office Mojo), and 'tn.movie_budgets.csv' (The Numbers).\n",
    "\n",
    "The data we will be working with will be exclusively from the top 10 proftable studios, and we will specifically be looking at production budget, domestic gross, foreign gross, worldwide gross, genre, and runtime\n",
    "\n",
    "This dataset should give us a good idea of what profitable movie companies have been doing for to maintain their success."
   ]
  },
  {
   "cell_type": "markdown",
   "metadata": {},
   "source": [
    "<h1 style=\"font-weight: normal\">Results</h1>"
   ]
  },
  {
   "cell_type": "markdown",
   "metadata": {},
   "source": [
    "The engagement team concluded on four key recommendations for Microsoft to consider as they produce their first film:\n",
    "\n",
    "- Keep Runtime Short:\n",
    "    - Profitable studios keep their average movie runtime at 107 minutes\n",
    "- Choose International\n",
    "    - International box office increases exponentially as budget increases\n",
    "- Scary-good Prospects\n",
    "    - Horror, mystery, and thriller offerings are currently sparse and highly profitable\n",
    "- Studio Partnership (Optional)\n",
    "    - Partnering with Warner Brothers (New Line Cinema) would both maximize partner-studio knowledge of the genre and and maximize the global reach of the film.\n",
    "\n"
   ]
  },
  {
   "cell_type": "markdown",
   "metadata": {},
   "source": [
    "<h1 style=\"font-weight: normal\">Keep Runtime Short:</h1>"
   ]
  },
  {
   "cell_type": "markdown",
   "metadata": {},
   "source": [
    "<figure>\n",
    "    <img src=\"Figures/Runtime.png\"\n",
    "         alt=\"Movie Financing\"\n",
    "         width=\"800\"\n",
    "         height=\"400\">\n",
    "</figure>"
   ]
  },
  {
   "cell_type": "markdown",
   "metadata": {},
   "source": [
    "The most profitable studios and their most profitable movies share a common runtime of about 107 minutes. It is in Microsoft's best interest to learn from these studios and produce a movie with this runtime."
   ]
  },
  {
   "cell_type": "markdown",
   "metadata": {},
   "source": [
    "<h1 style=\"font-weight: normal\">Choose International:</h1>"
   ]
  },
  {
   "cell_type": "markdown",
   "metadata": {},
   "source": [
    "<figure>\n",
    "    <img src=\"Figures/Budget vs BO.png\"\n",
    "         alt=\"Movie Financing\"\n",
    "         width=\"800\"\n",
    "         height=\"400\">\n",
    "</figure>"
   ]
  },
  {
   "cell_type": "markdown",
   "metadata": {},
   "source": [
    "International returns appear to grow exponetially as the movie budget increases, so Microsoft should attempt to go for an international release if the movie budget exceeds 50m"
   ]
  },
  {
   "cell_type": "markdown",
   "metadata": {},
   "source": [
    "<h1 style=\"font-weight: normal\">Scary-good Prospects:</h1>"
   ]
  },
  {
   "cell_type": "markdown",
   "metadata": {},
   "source": [
    "<figure>\n",
    "    <img src=\"Figures/Genre 1.png\"\n",
    "         alt=\"Movie Financing\"\n",
    "         width=\"1200\"\n",
    "         height=\"800\">\n",
    "</figure>"
   ]
  },
  {
   "cell_type": "markdown",
   "metadata": {},
   "source": [
    "The horror, mystery, and thriller genres were determined to be both underrepresented and highly profitable in the output of the most profitable movie studios"
   ]
  },
  {
   "cell_type": "markdown",
   "metadata": {},
   "source": [
    "<h1 style=\"font-weight: normal\">Studio Partnership:</h1>"
   ]
  },
  {
   "cell_type": "markdown",
   "metadata": {},
   "source": [
    "<figure>\n",
    "    <img src=\"Figures/Studio.png\"\n",
    "         alt=\"Movie Financing\"\n",
    "         width=\"800\"\n",
    "         height=\"400\">\n",
    "</figure>"
   ]
  },
  {
   "cell_type": "markdown",
   "metadata": {},
   "source": [
    "If a movie studio partnership is persued, partnering with Warner Brothers would be the most appealing due to both their horror, mystery, and thriller expertiese and international reach"
   ]
  },
  {
   "cell_type": "markdown",
   "metadata": {},
   "source": [
    "<h1 style=\"font-weight: normal\">Conclusions:</h1>"
   ]
  },
  {
   "cell_type": "markdown",
   "metadata": {},
   "source": [
    "The lessons learned from the most profitable studios are:\n",
    "   - Runtime should stay at around 107 minutes\n",
    "   - International box office returns increase exponetially as budget increases\n",
    "   - Horror, Mystery, and Thriller genres are underrepresented but highly lucrative\n",
    "   - If Microsoft were to persue a partnership in this field, they should partner with WB (NL) who have major horror blockbusters such as Annabelle and the IT series"
   ]
  },
  {
   "cell_type": "markdown",
   "metadata": {},
   "source": [
    "<h1 style=\"font-weight: normal\">Repo Structure:</h1>"
   ]
  },
  {
   "cell_type": "markdown",
   "metadata": {},
   "source": [
    "This is the README.md. \n",
    "\n",
    "The 'Index.ipynb' contains the jupyter notebook that explains our information, processing, and further analysis\n",
    "\n",
    "Our 'Slides.pdf' contains our google slides presentation that summarizes the findings. \n",
    "\n",
    "In 'Raw Data' you will be able to see the dataset we worked with\n",
    "\n",
    "'Figures' contains the charts used in this README and 'Illustrations' contains the jpgs used throughout each of the notebooks"
   ]
  }
 ],
 "metadata": {
  "kernelspec": {
   "display_name": "Python (learn-env)",
   "language": "python",
   "name": "learn-env"
  },
  "language_info": {
   "codemirror_mode": {
    "name": "ipython",
    "version": 3
   },
   "file_extension": ".py",
   "mimetype": "text/x-python",
   "name": "python",
   "nbconvert_exporter": "python",
   "pygments_lexer": "ipython3",
   "version": "3.8.5"
  }
 },
 "nbformat": 4,
 "nbformat_minor": 4
}
